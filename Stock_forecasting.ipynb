{
  "nbformat": 4,
  "nbformat_minor": 0,
  "metadata": {
    "colab": {
      "name": "Stock_forecasting",
      "provenance": [],
      "collapsed_sections": [],
      "authorship_tag": "ABX9TyMGV03uC0ZvfiM+w5Ogu5P7",
      "include_colab_link": true
    },
    "kernelspec": {
      "name": "python3",
      "display_name": "Python 3"
    }
  },
  "cells": [
    {
      "cell_type": "markdown",
      "metadata": {
        "id": "view-in-github",
        "colab_type": "text"
      },
      "source": [
        "<a href=\"https://colab.research.google.com/github/MutugiD/Data-Problems/blob/master/Stock_forecasting.ipynb\" target=\"_parent\"><img src=\"https://colab.research.google.com/assets/colab-badge.svg\" alt=\"Open In Colab\"/></a>"
      ]
    },
    {
      "cell_type": "markdown",
      "metadata": {
        "id": "1TC0OTJQlQFv"
      },
      "source": [
        "\n",
        "Autoregressive Integrated Moving Average Model — ARIMA (p, d, q). \n",
        "\n",
        "ARIMA (p, d, q) is a natural extension to the class of ARMA models, commonly used for financial data regression. ARIMA models can reduce a non-stationary series to a stationary series using a sequence of differences. ARIMA essentially performs same function, but does so repeatedly, d times, in order to reduce a non-stationary series to a stationary one. "
      ]
    },
    {
      "cell_type": "code",
      "metadata": {
        "id": "E4NjGE05drdM"
      },
      "source": [
        "#import relevant libraries\n",
        "#for stock information retrieval, data analysis, plotting, regression modelling and feature engineering\n",
        "#regression models- ARIMA(autoARIMA) and SARIMA\n",
        "import pandas as pd\n",
        "import numpy as np\n",
        "import matplotlib.pyplot as plt\n",
        "from pandas_datareader import data\n",
        "import statsmodels.api as sm\n",
        "from sklearn.model_selection import train_test_split\n",
        "from sklearn.linear_model import LinearRegression\n",
        "from statsmodels.tsa.arima_model import ARIMA\n",
        "from pmdarima.arima import auto_arima\n",
        "from sklearn.metrics import mean_squared_error\n",
        "import warnings \n",
        "warnings.filterwarnings('ignore')"
      ],
      "execution_count": 17,
      "outputs": []
    },
    {
      "cell_type": "code",
      "metadata": {
        "id": "FN5OuYmYhclA",
        "outputId": "55991124-409a-4395-a5c3-2671e2dd14b4",
        "colab": {
          "base_uri": "https://localhost:8080/",
          "height": 394
        }
      },
      "source": [
        "ticker = 'MSFT'\n",
        "start_date= '2000-1-1'\n",
        "end_date = '2015-12-31'\n",
        "database = 'yahoo' #Open data source-YahooFinance.com\n",
        "stock_data = data.DataReader(ticker, \n",
        "                       start=start_date, \n",
        "                       end=end_date, \n",
        "                       data_source=database) \n",
        "stock_data.head(n=10)"
      ],
      "execution_count": 18,
      "outputs": [
        {
          "output_type": "execute_result",
          "data": {
            "text/html": [
              "<div>\n",
              "<style scoped>\n",
              "    .dataframe tbody tr th:only-of-type {\n",
              "        vertical-align: middle;\n",
              "    }\n",
              "\n",
              "    .dataframe tbody tr th {\n",
              "        vertical-align: top;\n",
              "    }\n",
              "\n",
              "    .dataframe thead th {\n",
              "        text-align: right;\n",
              "    }\n",
              "</style>\n",
              "<table border=\"1\" class=\"dataframe\">\n",
              "  <thead>\n",
              "    <tr style=\"text-align: right;\">\n",
              "      <th></th>\n",
              "      <th>High</th>\n",
              "      <th>Low</th>\n",
              "      <th>Open</th>\n",
              "      <th>Close</th>\n",
              "      <th>Volume</th>\n",
              "      <th>Adj Close</th>\n",
              "    </tr>\n",
              "    <tr>\n",
              "      <th>Date</th>\n",
              "      <th></th>\n",
              "      <th></th>\n",
              "      <th></th>\n",
              "      <th></th>\n",
              "      <th></th>\n",
              "      <th></th>\n",
              "    </tr>\n",
              "  </thead>\n",
              "  <tbody>\n",
              "    <tr>\n",
              "      <th>2000-01-03</th>\n",
              "      <td>59.31250</td>\n",
              "      <td>56.00000</td>\n",
              "      <td>58.68750</td>\n",
              "      <td>58.28125</td>\n",
              "      <td>53228400.0</td>\n",
              "      <td>37.199776</td>\n",
              "    </tr>\n",
              "    <tr>\n",
              "      <th>2000-01-04</th>\n",
              "      <td>58.56250</td>\n",
              "      <td>56.12500</td>\n",
              "      <td>56.78125</td>\n",
              "      <td>56.31250</td>\n",
              "      <td>54119000.0</td>\n",
              "      <td>35.943153</td>\n",
              "    </tr>\n",
              "    <tr>\n",
              "      <th>2000-01-05</th>\n",
              "      <td>58.18750</td>\n",
              "      <td>54.68750</td>\n",
              "      <td>55.56250</td>\n",
              "      <td>56.90625</td>\n",
              "      <td>64059600.0</td>\n",
              "      <td>36.322121</td>\n",
              "    </tr>\n",
              "    <tr>\n",
              "      <th>2000-01-06</th>\n",
              "      <td>56.93750</td>\n",
              "      <td>54.18750</td>\n",
              "      <td>56.09375</td>\n",
              "      <td>55.00000</td>\n",
              "      <td>54976600.0</td>\n",
              "      <td>35.105415</td>\n",
              "    </tr>\n",
              "    <tr>\n",
              "      <th>2000-01-07</th>\n",
              "      <td>56.12500</td>\n",
              "      <td>53.65625</td>\n",
              "      <td>54.31250</td>\n",
              "      <td>55.71875</td>\n",
              "      <td>62013600.0</td>\n",
              "      <td>35.564171</td>\n",
              "    </tr>\n",
              "    <tr>\n",
              "      <th>2000-01-10</th>\n",
              "      <td>56.84375</td>\n",
              "      <td>55.68750</td>\n",
              "      <td>56.71875</td>\n",
              "      <td>56.12500</td>\n",
              "      <td>44963600.0</td>\n",
              "      <td>35.823463</td>\n",
              "    </tr>\n",
              "    <tr>\n",
              "      <th>2000-01-11</th>\n",
              "      <td>57.12500</td>\n",
              "      <td>54.34375</td>\n",
              "      <td>55.75000</td>\n",
              "      <td>54.68750</td>\n",
              "      <td>46743600.0</td>\n",
              "      <td>34.905945</td>\n",
              "    </tr>\n",
              "    <tr>\n",
              "      <th>2000-01-12</th>\n",
              "      <td>54.43750</td>\n",
              "      <td>52.21875</td>\n",
              "      <td>54.25000</td>\n",
              "      <td>52.90625</td>\n",
              "      <td>66532400.0</td>\n",
              "      <td>33.769020</td>\n",
              "    </tr>\n",
              "    <tr>\n",
              "      <th>2000-01-13</th>\n",
              "      <td>54.31250</td>\n",
              "      <td>50.75000</td>\n",
              "      <td>52.18750</td>\n",
              "      <td>53.90625</td>\n",
              "      <td>83144000.0</td>\n",
              "      <td>34.407299</td>\n",
              "    </tr>\n",
              "    <tr>\n",
              "      <th>2000-01-14</th>\n",
              "      <td>56.96875</td>\n",
              "      <td>52.87500</td>\n",
              "      <td>53.59375</td>\n",
              "      <td>56.12500</td>\n",
              "      <td>73416400.0</td>\n",
              "      <td>35.823463</td>\n",
              "    </tr>\n",
              "  </tbody>\n",
              "</table>\n",
              "</div>"
            ],
            "text/plain": [
              "                High       Low      Open     Close      Volume  Adj Close\n",
              "Date                                                                     \n",
              "2000-01-03  59.31250  56.00000  58.68750  58.28125  53228400.0  37.199776\n",
              "2000-01-04  58.56250  56.12500  56.78125  56.31250  54119000.0  35.943153\n",
              "2000-01-05  58.18750  54.68750  55.56250  56.90625  64059600.0  36.322121\n",
              "2000-01-06  56.93750  54.18750  56.09375  55.00000  54976600.0  35.105415\n",
              "2000-01-07  56.12500  53.65625  54.31250  55.71875  62013600.0  35.564171\n",
              "2000-01-10  56.84375  55.68750  56.71875  56.12500  44963600.0  35.823463\n",
              "2000-01-11  57.12500  54.34375  55.75000  54.68750  46743600.0  34.905945\n",
              "2000-01-12  54.43750  52.21875  54.25000  52.90625  66532400.0  33.769020\n",
              "2000-01-13  54.31250  50.75000  52.18750  53.90625  83144000.0  34.407299\n",
              "2000-01-14  56.96875  52.87500  53.59375  56.12500  73416400.0  35.823463"
            ]
          },
          "metadata": {
            "tags": []
          },
          "execution_count": 18
        }
      ]
    },
    {
      "cell_type": "code",
      "metadata": {
        "id": "BEB14X5oeEhr",
        "outputId": "e3a5028f-be1e-49c5-e54c-a78f805e2941",
        "colab": {
          "base_uri": "https://localhost:8080/",
          "height": 206
        }
      },
      "source": [
        "#pick closing prices\n",
        "Close = stock_data[['Adj Close']].copy().rename(columns ={'Adj Close': 'Close' })\n",
        "weekdays = pd.date_range(start=start_date, end= end_date, freq='B') #stock trade-days \n",
        "Close = Close.reindex(weekdays)\n",
        "df = Close.reindex(weekdays).fillna(Close.rolling(21,min_periods=1).mean()) #fill the NaN with monthly rolling mean stock prices \n",
        "df.head(n=5)"
      ],
      "execution_count": 19,
      "outputs": [
        {
          "output_type": "execute_result",
          "data": {
            "text/html": [
              "<div>\n",
              "<style scoped>\n",
              "    .dataframe tbody tr th:only-of-type {\n",
              "        vertical-align: middle;\n",
              "    }\n",
              "\n",
              "    .dataframe tbody tr th {\n",
              "        vertical-align: top;\n",
              "    }\n",
              "\n",
              "    .dataframe thead th {\n",
              "        text-align: right;\n",
              "    }\n",
              "</style>\n",
              "<table border=\"1\" class=\"dataframe\">\n",
              "  <thead>\n",
              "    <tr style=\"text-align: right;\">\n",
              "      <th></th>\n",
              "      <th>Close</th>\n",
              "    </tr>\n",
              "  </thead>\n",
              "  <tbody>\n",
              "    <tr>\n",
              "      <th>2000-01-03</th>\n",
              "      <td>37.199776</td>\n",
              "    </tr>\n",
              "    <tr>\n",
              "      <th>2000-01-04</th>\n",
              "      <td>35.943153</td>\n",
              "    </tr>\n",
              "    <tr>\n",
              "      <th>2000-01-05</th>\n",
              "      <td>36.322121</td>\n",
              "    </tr>\n",
              "    <tr>\n",
              "      <th>2000-01-06</th>\n",
              "      <td>35.105415</td>\n",
              "    </tr>\n",
              "    <tr>\n",
              "      <th>2000-01-07</th>\n",
              "      <td>35.564171</td>\n",
              "    </tr>\n",
              "  </tbody>\n",
              "</table>\n",
              "</div>"
            ],
            "text/plain": [
              "                Close\n",
              "2000-01-03  37.199776\n",
              "2000-01-04  35.943153\n",
              "2000-01-05  36.322121\n",
              "2000-01-06  35.105415\n",
              "2000-01-07  35.564171"
            ]
          },
          "metadata": {
            "tags": []
          },
          "execution_count": 19
        }
      ]
    },
    {
      "cell_type": "markdown",
      "metadata": {
        "id": "6cjLEi-Gke5f"
      },
      "source": [
        "Autoregressive Integrated Moving Average Model — ARIMA (p, d, q) is a natural extension to the class of ARMA models, commonly used for financial data regression. ARIMA models can reduce a non-stationary series to a stationary series using a sequence of differences.\n"
      ]
    },
    {
      "cell_type": "code",
      "metadata": {
        "id": "6wWha0Yph_7K",
        "outputId": "048b18fd-6677-4a85-dd65-99e76ead90ec",
        "colab": {
          "base_uri": "https://localhost:8080/"
        }
      },
      "source": [
        "#split the training and testing data\n",
        "in_sample = 0.8    #out_sample  = 0.2\n",
        "train_data, test_data =  df[0:int(len(df)*in_sample)], df[int(len(df)*in_sample):]\n",
        "train, test = train_data.values, test_data.values\n",
        "train.shape, test.shape"
      ],
      "execution_count": 20,
      "outputs": [
        {
          "output_type": "execute_result",
          "data": {
            "text/plain": [
              "((3339, 1), (835, 1))"
            ]
          },
          "metadata": {
            "tags": []
          },
          "execution_count": 20
        }
      ]
    },
    {
      "cell_type": "code",
      "metadata": {
        "id": "EzUryZ77iao5",
        "outputId": "53d49a19-2f43-4f40-f9b9-83c66448a165",
        "colab": {
          "base_uri": "https://localhost:8080/",
          "height": 721
        }
      },
      "source": [
        "#Optimal ARIMA model (p,d,q)\n",
        "#Perform stepwise search to minimize aic\n",
        "model = auto_arima(train, trace=True, error_action='ignore', suppress_warnings=True)\n",
        "model_fit = model.fit(train)\n",
        "model.summary()"
      ],
      "execution_count": 21,
      "outputs": [
        {
          "output_type": "stream",
          "text": [
            "Performing stepwise search to minimize aic\n",
            " ARIMA(2,1,2)(0,0,0)[0] intercept   : AIC=4477.167, Time=3.34 sec\n",
            " ARIMA(0,1,0)(0,0,0)[0] intercept   : AIC=4594.206, Time=0.30 sec\n",
            " ARIMA(1,1,0)(0,0,0)[0] intercept   : AIC=4476.353, Time=0.28 sec\n",
            " ARIMA(0,1,1)(0,0,0)[0] intercept   : AIC=4475.544, Time=0.65 sec\n",
            " ARIMA(0,1,0)(0,0,0)[0]             : AIC=4592.410, Time=0.15 sec\n",
            " ARIMA(1,1,1)(0,0,0)[0] intercept   : AIC=4477.121, Time=1.32 sec\n",
            " ARIMA(0,1,2)(0,0,0)[0] intercept   : AIC=4477.265, Time=0.94 sec\n",
            " ARIMA(1,1,2)(0,0,0)[0] intercept   : AIC=4478.953, Time=1.01 sec\n",
            " ARIMA(0,1,1)(0,0,0)[0]             : AIC=4473.855, Time=0.20 sec\n",
            " ARIMA(1,1,1)(0,0,0)[0]             : AIC=4475.425, Time=0.36 sec\n",
            " ARIMA(0,1,2)(0,0,0)[0]             : AIC=4475.570, Time=0.25 sec\n",
            " ARIMA(1,1,0)(0,0,0)[0]             : AIC=4474.642, Time=0.15 sec\n",
            " ARIMA(1,1,2)(0,0,0)[0]             : AIC=4477.258, Time=0.35 sec\n",
            "\n",
            "Best model:  ARIMA(0,1,1)(0,0,0)[0]          \n",
            "Total fit time: 9.297 seconds\n"
          ],
          "name": "stdout"
        },
        {
          "output_type": "execute_result",
          "data": {
            "text/html": [
              "<table class=\"simpletable\">\n",
              "<caption>SARIMAX Results</caption>\n",
              "<tr>\n",
              "  <th>Dep. Variable:</th>           <td>y</td>        <th>  No. Observations:  </th>   <td>3339</td>   \n",
              "</tr>\n",
              "<tr>\n",
              "  <th>Model:</th>           <td>SARIMAX(0, 1, 1)</td> <th>  Log Likelihood     </th> <td>-2234.928</td>\n",
              "</tr>\n",
              "<tr>\n",
              "  <th>Date:</th>            <td>Wed, 11 Nov 2020</td> <th>  AIC                </th> <td>4473.855</td> \n",
              "</tr>\n",
              "<tr>\n",
              "  <th>Time:</th>                <td>18:38:48</td>     <th>  BIC                </th> <td>4486.081</td> \n",
              "</tr>\n",
              "<tr>\n",
              "  <th>Sample:</th>                  <td>0</td>        <th>  HQIC               </th> <td>4478.229</td> \n",
              "</tr>\n",
              "<tr>\n",
              "  <th></th>                      <td> - 3339</td>     <th>                     </th>     <td> </td>    \n",
              "</tr>\n",
              "<tr>\n",
              "  <th>Covariance Type:</th>        <td>opg</td>       <th>                     </th>     <td> </td>    \n",
              "</tr>\n",
              "</table>\n",
              "<table class=\"simpletable\">\n",
              "<tr>\n",
              "     <td></td>       <th>coef</th>     <th>std err</th>      <th>z</th>      <th>P>|z|</th>  <th>[0.025</th>    <th>0.975]</th>  \n",
              "</tr>\n",
              "<tr>\n",
              "  <th>ma.L1</th>  <td>   -0.1903</td> <td>    0.009</td> <td>  -21.963</td> <td> 0.000</td> <td>   -0.207</td> <td>   -0.173</td>\n",
              "</tr>\n",
              "<tr>\n",
              "  <th>sigma2</th> <td>    0.2234</td> <td>    0.002</td> <td>  111.747</td> <td> 0.000</td> <td>    0.219</td> <td>    0.227</td>\n",
              "</tr>\n",
              "</table>\n",
              "<table class=\"simpletable\">\n",
              "<tr>\n",
              "  <th>Ljung-Box (Q):</th>          <td>114.03</td> <th>  Jarque-Bera (JB):  </th> <td>58911.25</td>\n",
              "</tr>\n",
              "<tr>\n",
              "  <th>Prob(Q):</th>                 <td>0.00</td>  <th>  Prob(JB):          </th>   <td>0.00</td>  \n",
              "</tr>\n",
              "<tr>\n",
              "  <th>Heteroskedasticity (H):</th>  <td>0.40</td>  <th>  Skew:              </th>   <td>-0.98</td> \n",
              "</tr>\n",
              "<tr>\n",
              "  <th>Prob(H) (two-sided):</th>     <td>0.00</td>  <th>  Kurtosis:          </th>   <td>23.49</td> \n",
              "</tr>\n",
              "</table><br/><br/>Warnings:<br/>[1] Covariance matrix calculated using the outer product of gradients (complex-step)."
            ],
            "text/plain": [
              "<class 'statsmodels.iolib.summary.Summary'>\n",
              "\"\"\"\n",
              "                               SARIMAX Results                                \n",
              "==============================================================================\n",
              "Dep. Variable:                      y   No. Observations:                 3339\n",
              "Model:               SARIMAX(0, 1, 1)   Log Likelihood               -2234.928\n",
              "Date:                Wed, 11 Nov 2020   AIC                           4473.855\n",
              "Time:                        18:38:48   BIC                           4486.081\n",
              "Sample:                             0   HQIC                          4478.229\n",
              "                               - 3339                                         \n",
              "Covariance Type:                  opg                                         \n",
              "==============================================================================\n",
              "                 coef    std err          z      P>|z|      [0.025      0.975]\n",
              "------------------------------------------------------------------------------\n",
              "ma.L1         -0.1903      0.009    -21.963      0.000      -0.207      -0.173\n",
              "sigma2         0.2234      0.002    111.747      0.000       0.219       0.227\n",
              "===================================================================================\n",
              "Ljung-Box (Q):                      114.03   Jarque-Bera (JB):             58911.25\n",
              "Prob(Q):                              0.00   Prob(JB):                         0.00\n",
              "Heteroskedasticity (H):               0.40   Skew:                            -0.98\n",
              "Prob(H) (two-sided):                  0.00   Kurtosis:                        23.49\n",
              "===================================================================================\n",
              "\n",
              "Warnings:\n",
              "[1] Covariance matrix calculated using the outer product of gradients (complex-step).\n",
              "\"\"\""
            ]
          },
          "metadata": {
            "tags": []
          },
          "execution_count": 21
        }
      ]
    },
    {
      "cell_type": "code",
      "metadata": {
        "id": "rc6Pqt8Kij-l",
        "outputId": "ce42dfaf-06c0-4d64-b22a-e4e41c963715",
        "colab": {
          "base_uri": "https://localhost:8080/"
        }
      },
      "source": [
        "##picking and storing optimal ARIMA order(p,d,q) for regression\n",
        "import re\n",
        "summary_string = str(model.summary())\n",
        "param = re.findall('SARIMAX\\(([0-9]+), ([0-9]+), ([0-9]+)',summary_string)\n",
        "p,d,q = int(param[0][0]) , int(param[0][1]) , int(param[0][2])\n",
        "p,d,q\n",
        "   "
      ],
      "execution_count": 10,
      "outputs": [
        {
          "output_type": "execute_result",
          "data": {
            "text/plain": [
              "(0, 1, 1)"
            ]
          },
          "metadata": {
            "tags": []
          },
          "execution_count": 10
        }
      ]
    },
    {
      "cell_type": "code",
      "metadata": {
        "id": "1IK74g5EiqUY",
        "outputId": "b28e8a1b-28f0-4b4b-d4f1-dbf992df65dc",
        "colab": {
          "base_uri": "https://localhost:8080/"
        }
      },
      "source": [
        "\n",
        "#ARIMA regression modelling for out-sample prediction\n",
        "history = [x for x in train]\n",
        "predictions = list()\n",
        "for t in range(len(test)):\n",
        "    model = ARIMA(history, order=(p,d,q))\n",
        "    model_fit = model.fit(disp=0)\n",
        "    output = model_fit.forecast()\n",
        "    yhat = output[0]\n",
        "    predictions.append(yhat)\n",
        "    observations = test[t]\n",
        "    history.append(observations)\n",
        "#mean-square error computation\n",
        "error = mean_squared_error(test, predictions)\n",
        "print('Testing Mean Squared Error: %.3f' % error)"
      ],
      "execution_count": 22,
      "outputs": [
        {
          "output_type": "stream",
          "text": [
            "Testing Mean Squared Error: 0.320\n"
          ],
          "name": "stdout"
        }
      ]
    },
    {
      "cell_type": "code",
      "metadata": {
        "id": "Ihi8BSWfjeOA",
        "outputId": "fee9a621-4ad1-44d5-adbd-92e08ad57f05",
        "colab": {
          "base_uri": "https://localhost:8080/",
          "height": 476
        }
      },
      "source": [
        "#plot train-data, test-data, and predicted prices\n",
        "plt.figure(figsize=(12,7))\n",
        "plt.plot(df['Close'], 'green', color='blue', label='Training data')\n",
        "plt.plot(test_data.index, predictions, color='green', marker='o', linestyle='dashed', \n",
        "         label='Predicted prices')\n",
        "plt.plot(test_data.index, test_data['Close'], color='red', label='Actual Price')\n",
        "plt.title('{} Prices vs Predictions'.format(ticker))\n",
        "plt.xlabel('Dates')\n",
        "plt.ylabel('Prices')"
      ],
      "execution_count": 15,
      "outputs": [
        {
          "output_type": "execute_result",
          "data": {
            "text/plain": [
              "Text(0, 0.5, 'Prices')"
            ]
          },
          "metadata": {
            "tags": []
          },
          "execution_count": 15
        },
        {
          "output_type": "display_data",
          "data": {
            "image/png": "[encoded data removed]",
            "text/plain": [
              "<Figure size 864x504 with 1 Axes>"
            ]
          },
          "metadata": {
            "tags": [],
            "needs_background": "light"
          }
        }
      ]
    },
    {
      "cell_type": "code",
      "metadata": {
        "id": "Wl88Kx1ir78j"
      },
      "source": [
        ""
      ],
      "execution_count": null,
      "outputs": []
    },
    {
      "cell_type": "code",
      "metadata": {
        "id": "ck6XxIx7jg18",
        "outputId": "86a21d50-ea76-4ad9-9f43-2d307cfb7b60",
        "colab": {
          "base_uri": "https://localhost:8080/",
          "height": 476
        }
      },
      "source": [
        "#plot test-data and predicted prices (visual noise-checking)\n",
        "plt.figure(figsize=(12,7))\n",
        "plt.plot(test_data.index, predictions, color='green', marker='o', linestyle='dashed', \n",
        "         label='Predicted prices')\n",
        "plt.plot(test_data.index, test_data['Close'], color='red', label='Actual Price')\n",
        "plt.title('{} Predicted vs Test'.format(ticker))\n",
        "plt.xlabel('Dates')\n",
        "plt.ylabel('Prices')\n"
      ],
      "execution_count": 16,
      "outputs": [
        {
          "output_type": "execute_result",
          "data": {
            "text/plain": [
              "Text(0, 0.5, 'Prices')"
            ]
          },
          "metadata": {
            "tags": []
          },
          "execution_count": 16
        },
        {
          "output_type": "display_data",
          "data": {
            "image/png": "[encoded data removed]",
            "text/plain": [
              "<Figure size 864x504 with 1 Axes>"
            ]
          },
          "metadata": {
            "tags": [],
            "needs_background": "light"
          }
        }
      ]
    }
  ]
}