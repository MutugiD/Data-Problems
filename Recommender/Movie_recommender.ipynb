{
  "nbformat": 4,
  "nbformat_minor": 0,
  "metadata": {
    "colab": {
      "name": "Movie_recommender",
      "provenance": [],
      "collapsed_sections": []
    },
    "kernelspec": {
      "name": "python3",
      "display_name": "Python 3"
    }
  },
  "cells": [
    {
      "cell_type": "markdown",
      "metadata": {
        "id": "CkGMk6tT-6iI"
      },
      "source": [
        "Import the relevant libraries. Surprise and its datasets are the main libraries. "
      ]
    },
    {
      "cell_type": "code",
      "metadata": {
        "id": "WC5siiy_YoRf"
      },
      "source": [
        "import pandas as pd\n",
        "import numpy as np\n",
        "from surprise import Reader\n",
        "from surprise import Dataset\n",
        "from surprise import NormalPredictor\n",
        "from surprise import KNNBasic\n",
        "from surprise import KNNWithMeans\n",
        "from surprise import SVD\n",
        "from surprise import SVDpp\n",
        "from surprise import KNNWithZScore\n",
        "from surprise import KNNBaseline\n",
        "from surprise import CoClustering\n",
        "from surprise import NMF\n",
        "from surprise import SlopeOne\n",
        "from surprise.accuracy import rmse\n",
        "from surprise import accuracy\n",
        "from surprise.model_selection import KFold\n",
        "from surprise.model_selection import cross_validate\n",
        "from surprise.model_selection import train_test_split\n",
        "from surprise.model_selection import GridSearchCV\n",
        "from collections import defaultdict"
      ],
      "execution_count": null,
      "outputs": []
    },
    {
      "cell_type": "markdown",
      "metadata": {
        "id": "4JLcyHftZ1pH"
      },
      "source": [
        "Load the movielens-100k dataset(csv format) from GitHub link\n"
      ]
    },
    {
      "cell_type": "code",
      "metadata": {
        "id": "02ss2dTITBWs",
        "outputId": "41047cf4-1fc5-415c-a035-cbeca469438a",
        "colab": {
          "base_uri": "https://localhost:8080/",
          "height": 206
        }
      },
      "source": [
        "url = 'https://raw.githubusercontent.com/MutugiD/Data-Problems/master/Recommender/movie_ratings.csv'\n",
        "data = pd.read_csv(url)\n",
        "data.head()\n"
      ],
      "execution_count": null,
      "outputs": [
        {
          "output_type": "execute_result",
          "data": {
            "text/html": [
              "<div>\n",
              "<style scoped>\n",
              "    .dataframe tbody tr th:only-of-type {\n",
              "        vertical-align: middle;\n",
              "    }\n",
              "\n",
              "    .dataframe tbody tr th {\n",
              "        vertical-align: top;\n",
              "    }\n",
              "\n",
              "    .dataframe thead th {\n",
              "        text-align: right;\n",
              "    }\n",
              "</style>\n",
              "<table border=\"1\" class=\"dataframe\">\n",
              "  <thead>\n",
              "    <tr style=\"text-align: right;\">\n",
              "      <th></th>\n",
              "      <th>userId</th>\n",
              "      <th>movieId</th>\n",
              "      <th>rating</th>\n",
              "      <th>timestamp</th>\n",
              "    </tr>\n",
              "  </thead>\n",
              "  <tbody>\n",
              "    <tr>\n",
              "      <th>0</th>\n",
              "      <td>1</td>\n",
              "      <td>1</td>\n",
              "      <td>4.0</td>\n",
              "      <td>964982703</td>\n",
              "    </tr>\n",
              "    <tr>\n",
              "      <th>1</th>\n",
              "      <td>1</td>\n",
              "      <td>3</td>\n",
              "      <td>4.0</td>\n",
              "      <td>964981247</td>\n",
              "    </tr>\n",
              "    <tr>\n",
              "      <th>2</th>\n",
              "      <td>1</td>\n",
              "      <td>6</td>\n",
              "      <td>4.0</td>\n",
              "      <td>964982224</td>\n",
              "    </tr>\n",
              "    <tr>\n",
              "      <th>3</th>\n",
              "      <td>1</td>\n",
              "      <td>47</td>\n",
              "      <td>5.0</td>\n",
              "      <td>964983815</td>\n",
              "    </tr>\n",
              "    <tr>\n",
              "      <th>4</th>\n",
              "      <td>1</td>\n",
              "      <td>50</td>\n",
              "      <td>5.0</td>\n",
              "      <td>964982931</td>\n",
              "    </tr>\n",
              "  </tbody>\n",
              "</table>\n",
              "</div>"
            ],
            "text/plain": [
              "   userId  movieId  rating  timestamp\n",
              "0       1        1     4.0  964982703\n",
              "1       1        3     4.0  964981247\n",
              "2       1        6     4.0  964982224\n",
              "3       1       47     5.0  964983815\n",
              "4       1       50     5.0  964982931"
            ]
          },
          "metadata": {
            "tags": []
          },
          "execution_count": 103
        }
      ]
    },
    {
      "cell_type": "markdown",
      "metadata": {
        "id": "JJWqHj804hED"
      },
      "source": [
        "Create a dictionary with 3 columns, name them, and transform into a Pandas DF"
      ]
    },
    {
      "cell_type": "code",
      "metadata": {
        "id": "FAjd0asm4YrO",
        "outputId": "aa060c44-a1c6-4119-cdf4-2382c38e3b54",
        "colab": {
          "base_uri": "https://localhost:8080/",
          "height": 206
        }
      },
      "source": [
        "rating_dict = {'itemID': list(data.movieId),\n",
        "                'userID': list(data.userId),\n",
        "                'rating': list(data.rating)}\n",
        "df = pd.DataFrame(rating_dict)\n",
        "df.head()"
      ],
      "execution_count": null,
      "outputs": [
        {
          "output_type": "execute_result",
          "data": {
            "text/html": [
              "<div>\n",
              "<style scoped>\n",
              "    .dataframe tbody tr th:only-of-type {\n",
              "        vertical-align: middle;\n",
              "    }\n",
              "\n",
              "    .dataframe tbody tr th {\n",
              "        vertical-align: top;\n",
              "    }\n",
              "\n",
              "    .dataframe thead th {\n",
              "        text-align: right;\n",
              "    }\n",
              "</style>\n",
              "<table border=\"1\" class=\"dataframe\">\n",
              "  <thead>\n",
              "    <tr style=\"text-align: right;\">\n",
              "      <th></th>\n",
              "      <th>itemID</th>\n",
              "      <th>userID</th>\n",
              "      <th>rating</th>\n",
              "    </tr>\n",
              "  </thead>\n",
              "  <tbody>\n",
              "    <tr>\n",
              "      <th>0</th>\n",
              "      <td>1</td>\n",
              "      <td>1</td>\n",
              "      <td>4.0</td>\n",
              "    </tr>\n",
              "    <tr>\n",
              "      <th>1</th>\n",
              "      <td>3</td>\n",
              "      <td>1</td>\n",
              "      <td>4.0</td>\n",
              "    </tr>\n",
              "    <tr>\n",
              "      <th>2</th>\n",
              "      <td>6</td>\n",
              "      <td>1</td>\n",
              "      <td>4.0</td>\n",
              "    </tr>\n",
              "    <tr>\n",
              "      <th>3</th>\n",
              "      <td>47</td>\n",
              "      <td>1</td>\n",
              "      <td>5.0</td>\n",
              "    </tr>\n",
              "    <tr>\n",
              "      <th>4</th>\n",
              "      <td>50</td>\n",
              "      <td>1</td>\n",
              "      <td>5.0</td>\n",
              "    </tr>\n",
              "  </tbody>\n",
              "</table>\n",
              "</div>"
            ],
            "text/plain": [
              "   itemID  userID  rating\n",
              "0       1       1     4.0\n",
              "1       3       1     4.0\n",
              "2       6       1     4.0\n",
              "3      47       1     5.0\n",
              "4      50       1     5.0"
            ]
          },
          "metadata": {
            "tags": []
          },
          "execution_count": 105
        }
      ]
    },
    {
      "cell_type": "markdown",
      "metadata": {
        "id": "iDsY3rwT44EC"
      },
      "source": [
        "Load data from dataframe(df) created above, use load_from_df() method. Use a Reader object, and the rating_scale parameter specification"
      ]
    },
    {
      "cell_type": "code",
      "metadata": {
        "id": "UlvjlGiy41cC"
      },
      "source": [
        "reader = Reader(line_format='user item rating timestamp', sep='\\t')\n",
        "reader = Reader(rating_scale=(0.5, 5.0))\n",
        "data = Dataset.load_from_df(df[['userID', 'itemID', 'rating']], reader)"
      ],
      "execution_count": null,
      "outputs": []
    },
    {
      "cell_type": "markdown",
      "metadata": {
        "id": "KZtG8nK6aAQd"
      },
      "source": [
        "Create a benchmark. Iterate over SVD, NMF, NormalPredictor, KNNBasic "
      ]
    },
    {
      "cell_type": "code",
      "metadata": {
        "id": "cAwu0CGuZ-Lr",
        "outputId": "51ea827a-16a8-43cd-aa7a-0cbe96936161",
        "colab": {
          "base_uri": "https://localhost:8080/",
          "height": 317
        }
      },
      "source": [
        "data = Dataset.load_from_df(df[['userID', 'itemID', 'rating']], reader)\n",
        "benchmark = []\n",
        "# Iterate over SVD, NMF, NormalPredictor, KNNBasic \n",
        "for algo in [SVD(), NMF(), NormalPredictor(), KNNBasic()]:\n",
        "    # Perform cross validation\n",
        "    results = cross_validate(algo, data, measures=['RMSE'], cv=3, verbose=False)\n",
        "    temp = pd.DataFrame.from_dict(results).mean(axis=0)\n",
        "    temp = temp.append(pd.Series([str(algo).split(' ')[0].split('.')[-1]],index=['Algorithm']))\n",
        "    benchmark.append(temp)\n",
        "\n",
        "algo_data = pd.DataFrame(benchmark).set_index('Algorithm').sort_values('test_rmse')\n",
        "algo_data"
      ],
      "execution_count": null,
      "outputs": [
        {
          "output_type": "stream",
          "text": [
            "Computing the msd similarity matrix...\n",
            "Done computing similarity matrix.\n",
            "Computing the msd similarity matrix...\n",
            "Done computing similarity matrix.\n",
            "Computing the msd similarity matrix...\n",
            "Done computing similarity matrix.\n"
          ],
          "name": "stdout"
        },
        {
          "output_type": "execute_result",
          "data": {
            "text/html": [
              "<div>\n",
              "<style scoped>\n",
              "    .dataframe tbody tr th:only-of-type {\n",
              "        vertical-align: middle;\n",
              "    }\n",
              "\n",
              "    .dataframe tbody tr th {\n",
              "        vertical-align: top;\n",
              "    }\n",
              "\n",
              "    .dataframe thead th {\n",
              "        text-align: right;\n",
              "    }\n",
              "</style>\n",
              "<table border=\"1\" class=\"dataframe\">\n",
              "  <thead>\n",
              "    <tr style=\"text-align: right;\">\n",
              "      <th></th>\n",
              "      <th>test_rmse</th>\n",
              "      <th>fit_time</th>\n",
              "      <th>test_time</th>\n",
              "    </tr>\n",
              "    <tr>\n",
              "      <th>Algorithm</th>\n",
              "      <th></th>\n",
              "      <th></th>\n",
              "      <th></th>\n",
              "    </tr>\n",
              "  </thead>\n",
              "  <tbody>\n",
              "    <tr>\n",
              "      <th>SVD</th>\n",
              "      <td>0.881587</td>\n",
              "      <td>4.217822</td>\n",
              "      <td>0.223484</td>\n",
              "    </tr>\n",
              "    <tr>\n",
              "      <th>NMF</th>\n",
              "      <td>0.935477</td>\n",
              "      <td>4.975248</td>\n",
              "      <td>0.356547</td>\n",
              "    </tr>\n",
              "    <tr>\n",
              "      <th>KNNBasic</th>\n",
              "      <td>0.958094</td>\n",
              "      <td>0.101014</td>\n",
              "      <td>2.234545</td>\n",
              "    </tr>\n",
              "    <tr>\n",
              "      <th>NormalPredictor</th>\n",
              "      <td>1.425713</td>\n",
              "      <td>0.109218</td>\n",
              "      <td>0.240784</td>\n",
              "    </tr>\n",
              "  </tbody>\n",
              "</table>\n",
              "</div>"
            ],
            "text/plain": [
              "                 test_rmse  fit_time  test_time\n",
              "Algorithm                                      \n",
              "SVD               0.881587  4.217822   0.223484\n",
              "NMF               0.935477  4.975248   0.356547\n",
              "KNNBasic          0.958094  0.101014   2.234545\n",
              "NormalPredictor   1.425713  0.109218   0.240784"
            ]
          },
          "metadata": {
            "tags": []
          },
          "execution_count": 110
        }
      ]
    },
    {
      "cell_type": "markdown",
      "metadata": {
        "id": "2LbHwpCR6Sf_"
      },
      "source": [
        "Tune the algorithm parameters to find the optimal parameter and assign them\n"
      ]
    },
    {
      "cell_type": "code",
      "metadata": {
        "id": "xvyUI6FVbqF5",
        "outputId": "214a3b55-c788-427c-d2f7-a5a3a4950f37",
        "colab": {
          "base_uri": "https://localhost:8080/"
        }
      },
      "source": [
        "parameters= {'n_factors': [25, 30, 35, 40], 'n_epochs': [15, 20, 25], 'lr_all': [0.001, 0.003, 0.005, 0.008],\n",
        "              'reg_all': [0.08, 0.1, 0.15]}\n",
        "grid= GridSearchCV(SVD, parameters, measures=['rmse', 'mae'], cv=3)\n",
        "trainset, testset = train_test_split(data, test_size=0.2)\n",
        "grid.fit(data)\n",
        "algo_best = grid.best_estimator['rmse']\n",
        "print(grid.best_score['rmse'])\n",
        "print(grid.best_params['rmse'])\n",
        "\n",
        "#assign the best parameters\n",
        "t_num = grid.best_params\n",
        "factors = t_num['rmse']['n_factors']\n",
        "epochs = t_num['rmse']['n_epochs']\n",
        "lr_value = t_num['rmse']['lr_all']\n",
        "reg_value = t_num['rmse']['reg_all']"
      ],
      "execution_count": null,
      "outputs": [
        {
          "output_type": "stream",
          "text": [
            "0.8670067105309122\n",
            "{'n_factors': 40, 'n_epochs': 25, 'lr_all': 0.008, 'reg_all': 0.08}\n"
          ],
          "name": "stdout"
        }
      ]
    },
    {
      "cell_type": "markdown",
      "metadata": {
        "id": "x6wWoEh5c8E1"
      },
      "source": [
        "\n",
        "Tunining algorithmic parameters to find the best fits by use of grid search"
      ]
    },
    {
      "cell_type": "code",
      "metadata": {
        "id": "rJ2-HYWWc178",
        "outputId": "a9625cf4-517c-4b9e-a63c-da26b1e6f3d9",
        "colab": {
          "base_uri": "https://localhost:8080/"
        }
      },
      "source": [
        "parameters= {'n_factors': [25, 30, 35, 40], 'n_epochs': [15, 20, 25], 'lr_all': [0.001, 0.003, 0.005, 0.008],\n",
        "              'reg_all': [0.08, 0.1, 0.15]}\n",
        "grid= GridSearchCV(SVD, parameters, measures=['rmse', 'mae'], cv=3)\n",
        "trainset, testset = train_test_split(data, test_size=0.2)\n",
        "grid.fit(data)\n",
        "algo_best = grid.best_estimator['rmse']\n",
        "print(grid.best_score['rmse'])\n",
        "print(grid.best_params['rmse'])\n",
        "\n",
        "t_num = grid.best_params\n",
        "factors = t_num['rmse']['n_factors']\n",
        "epochs = t_num['rmse']['n_epochs']\n",
        "lr_value = t_num['rmse']['lr_all']\n",
        "reg_value = t_num['rmse']['reg_all']\n"
      ],
      "execution_count": null,
      "outputs": [
        {
          "output_type": "stream",
          "text": [
            "0.9273949991891661\n",
            "{'n_factors': 40, 'n_epochs': 25, 'lr_all': 0.008, 'reg_all': 0.08}\n"
          ],
          "name": "stdout"
        }
      ]
    },
    {
      "cell_type": "markdown",
      "metadata": {
        "id": "9RUHaMqS-rBd"
      },
      "source": [
        "For training and testing, train_test_split() is used, and then fitted onto the train and test sample. "
      ]
    },
    {
      "cell_type": "code",
      "metadata": {
        "id": "yiRVnN6vnefa",
        "outputId": "7fc0e7bb-1777-47bb-83cf-bbb57ecc6cfe",
        "colab": {
          "base_uri": "https://localhost:8080/"
        }
      },
      "source": [
        "trainset, testset = train_test_split(data, test_size=0.20)\n",
        "algo_algo = SVD(n_factors=factors, n_epochs=epochs, lr_all=lr_value, reg_all=reg_value)\n",
        "predictions = algo_algo.fit(trainset).test(testset)\n",
        "accuracy.rmse(predictions)"
      ],
      "execution_count": null,
      "outputs": [
        {
          "output_type": "stream",
          "text": [
            "RMSE: 0.8678\n"
          ],
          "name": "stdout"
        },
        {
          "output_type": "execute_result",
          "data": {
            "text/plain": [
              "0.8678207074088683"
            ]
          },
          "metadata": {
            "tags": []
          },
          "execution_count": 112
        }
      ]
    },
    {
      "cell_type": "markdown",
      "metadata": {
        "id": "Kgcv36gdubWW"
      },
      "source": [
        "**Checking how good or bad the predictions** \n",
        "\n",
        "The following parameters are used: \n",
        "\n",
        "*   UID: user-id\n",
        "*   iid: item id\n",
        "*   Rui: the rating given by the user\n",
        "*   est: rating estimated by the model\n",
        "*   Iu: No of items rated by the user\n",
        "*   UI: number of users that have rated this item\n",
        "*   err: abs difference between predicted rating and the actual rating.\n"
      ]
    },
    {
      "cell_type": "code",
      "metadata": {
        "id": "Zf--2FqRuJPg"
      },
      "source": [
        "#Gets the user_id, returns no of items rated by user\n",
        "def get_Iu(uid):\n",
        "    try:\n",
        "        return len(trainset.ur[trainset.to_inner_uid(uid)])\n",
        "    except ValueError:\n",
        "        return 0\n",
        "#Gets raw id of an item, returns no of users who have rated the item\n",
        "def get_Ui(iid):\n",
        "    try: \n",
        "        return len(trainset.ir[trainset.to_inner_iid(iid)])\n",
        "    except ValueError:\n",
        "        return 0\n",
        "df_predictions = pd.DataFrame(predictions, columns=['uid', 'iid', 'rui', 'est', 'details'])\n",
        "df_predictions['Iu'] = df_predictions.uid.apply(get_Iu)\n",
        "df_predictions['Ui'] = df_predictions.iid.apply(get_Ui)\n",
        "df_predictions['err'] = abs(df_predictions.est - df_predictions.rui)\n",
        "best_predictions = df_predictions.sort_values(by='err')[:10]\n",
        "worst_predictions = df_predictions.sort_values(by='err')[-10:]\n"
      ],
      "execution_count": null,
      "outputs": []
    },
    {
      "cell_type": "code",
      "metadata": {
        "id": "6yjR57ha0nJ_",
        "outputId": "eb1a0f80-a3cc-4962-b024-fc662c4cb7bb",
        "colab": {
          "base_uri": "https://localhost:8080/",
          "height": 363
        }
      },
      "source": [
        "best_predictions"
      ],
      "execution_count": null,
      "outputs": [
        {
          "output_type": "execute_result",
          "data": {
            "text/html": [
              "<div>\n",
              "<style scoped>\n",
              "    .dataframe tbody tr th:only-of-type {\n",
              "        vertical-align: middle;\n",
              "    }\n",
              "\n",
              "    .dataframe tbody tr th {\n",
              "        vertical-align: top;\n",
              "    }\n",
              "\n",
              "    .dataframe thead th {\n",
              "        text-align: right;\n",
              "    }\n",
              "</style>\n",
              "<table border=\"1\" class=\"dataframe\">\n",
              "  <thead>\n",
              "    <tr style=\"text-align: right;\">\n",
              "      <th></th>\n",
              "      <th>uid</th>\n",
              "      <th>iid</th>\n",
              "      <th>rui</th>\n",
              "      <th>est</th>\n",
              "      <th>details</th>\n",
              "      <th>Iu</th>\n",
              "      <th>Ui</th>\n",
              "      <th>err</th>\n",
              "    </tr>\n",
              "  </thead>\n",
              "  <tbody>\n",
              "    <tr>\n",
              "      <th>16351</th>\n",
              "      <td>30</td>\n",
              "      <td>318</td>\n",
              "      <td>5.0</td>\n",
              "      <td>5.000000</td>\n",
              "      <td>{'was_impossible': False}</td>\n",
              "      <td>27</td>\n",
              "      <td>248</td>\n",
              "      <td>0.000000</td>\n",
              "    </tr>\n",
              "    <tr>\n",
              "      <th>19866</th>\n",
              "      <td>53</td>\n",
              "      <td>1256</td>\n",
              "      <td>5.0</td>\n",
              "      <td>5.000000</td>\n",
              "      <td>{'was_impossible': False}</td>\n",
              "      <td>15</td>\n",
              "      <td>16</td>\n",
              "      <td>0.000000</td>\n",
              "    </tr>\n",
              "    <tr>\n",
              "      <th>5371</th>\n",
              "      <td>171</td>\n",
              "      <td>1104</td>\n",
              "      <td>5.0</td>\n",
              "      <td>5.000000</td>\n",
              "      <td>{'was_impossible': False}</td>\n",
              "      <td>65</td>\n",
              "      <td>16</td>\n",
              "      <td>0.000000</td>\n",
              "    </tr>\n",
              "    <tr>\n",
              "      <th>2314</th>\n",
              "      <td>53</td>\n",
              "      <td>1125</td>\n",
              "      <td>5.0</td>\n",
              "      <td>5.000000</td>\n",
              "      <td>{'was_impossible': False}</td>\n",
              "      <td>15</td>\n",
              "      <td>18</td>\n",
              "      <td>0.000000</td>\n",
              "    </tr>\n",
              "    <tr>\n",
              "      <th>14533</th>\n",
              "      <td>276</td>\n",
              "      <td>260</td>\n",
              "      <td>5.0</td>\n",
              "      <td>5.000000</td>\n",
              "      <td>{'was_impossible': False}</td>\n",
              "      <td>32</td>\n",
              "      <td>196</td>\n",
              "      <td>0.000000</td>\n",
              "    </tr>\n",
              "    <tr>\n",
              "      <th>16491</th>\n",
              "      <td>122</td>\n",
              "      <td>318</td>\n",
              "      <td>5.0</td>\n",
              "      <td>5.000000</td>\n",
              "      <td>{'was_impossible': False}</td>\n",
              "      <td>231</td>\n",
              "      <td>248</td>\n",
              "      <td>0.000000</td>\n",
              "    </tr>\n",
              "    <tr>\n",
              "      <th>16629</th>\n",
              "      <td>523</td>\n",
              "      <td>58559</td>\n",
              "      <td>5.0</td>\n",
              "      <td>5.000000</td>\n",
              "      <td>{'was_impossible': False}</td>\n",
              "      <td>56</td>\n",
              "      <td>115</td>\n",
              "      <td>0.000000</td>\n",
              "    </tr>\n",
              "    <tr>\n",
              "      <th>4111</th>\n",
              "      <td>452</td>\n",
              "      <td>1198</td>\n",
              "      <td>5.0</td>\n",
              "      <td>5.000000</td>\n",
              "      <td>{'was_impossible': False}</td>\n",
              "      <td>155</td>\n",
              "      <td>158</td>\n",
              "      <td>0.000000</td>\n",
              "    </tr>\n",
              "    <tr>\n",
              "      <th>15482</th>\n",
              "      <td>33</td>\n",
              "      <td>308</td>\n",
              "      <td>4.0</td>\n",
              "      <td>4.000015</td>\n",
              "      <td>{'was_impossible': False}</td>\n",
              "      <td>124</td>\n",
              "      <td>15</td>\n",
              "      <td>0.000015</td>\n",
              "    </tr>\n",
              "    <tr>\n",
              "      <th>19712</th>\n",
              "      <td>387</td>\n",
              "      <td>2759</td>\n",
              "      <td>3.5</td>\n",
              "      <td>3.499950</td>\n",
              "      <td>{'was_impossible': False}</td>\n",
              "      <td>815</td>\n",
              "      <td>5</td>\n",
              "      <td>0.000050</td>\n",
              "    </tr>\n",
              "  </tbody>\n",
              "</table>\n",
              "</div>"
            ],
            "text/plain": [
              "       uid    iid  rui       est                    details   Iu   Ui       err\n",
              "16351   30    318  5.0  5.000000  {'was_impossible': False}   27  248  0.000000\n",
              "19866   53   1256  5.0  5.000000  {'was_impossible': False}   15   16  0.000000\n",
              "5371   171   1104  5.0  5.000000  {'was_impossible': False}   65   16  0.000000\n",
              "2314    53   1125  5.0  5.000000  {'was_impossible': False}   15   18  0.000000\n",
              "14533  276    260  5.0  5.000000  {'was_impossible': False}   32  196  0.000000\n",
              "16491  122    318  5.0  5.000000  {'was_impossible': False}  231  248  0.000000\n",
              "16629  523  58559  5.0  5.000000  {'was_impossible': False}   56  115  0.000000\n",
              "4111   452   1198  5.0  5.000000  {'was_impossible': False}  155  158  0.000000\n",
              "15482   33    308  4.0  4.000015  {'was_impossible': False}  124   15  0.000015\n",
              "19712  387   2759  3.5  3.499950  {'was_impossible': False}  815    5  0.000050"
            ]
          },
          "metadata": {
            "tags": []
          },
          "execution_count": 114
        }
      ]
    },
    {
      "cell_type": "code",
      "metadata": {
        "id": "zxv9sE8J0q3T",
        "outputId": "1a9b8460-1eac-474d-82ce-2bc39631269a",
        "colab": {
          "base_uri": "https://localhost:8080/",
          "height": 363
        }
      },
      "source": [
        "worst_predictions"
      ],
      "execution_count": null,
      "outputs": [
        {
          "output_type": "execute_result",
          "data": {
            "text/html": [
              "<div>\n",
              "<style scoped>\n",
              "    .dataframe tbody tr th:only-of-type {\n",
              "        vertical-align: middle;\n",
              "    }\n",
              "\n",
              "    .dataframe tbody tr th {\n",
              "        vertical-align: top;\n",
              "    }\n",
              "\n",
              "    .dataframe thead th {\n",
              "        text-align: right;\n",
              "    }\n",
              "</style>\n",
              "<table border=\"1\" class=\"dataframe\">\n",
              "  <thead>\n",
              "    <tr style=\"text-align: right;\">\n",
              "      <th></th>\n",
              "      <th>uid</th>\n",
              "      <th>iid</th>\n",
              "      <th>rui</th>\n",
              "      <th>est</th>\n",
              "      <th>details</th>\n",
              "      <th>Iu</th>\n",
              "      <th>Ui</th>\n",
              "      <th>err</th>\n",
              "    </tr>\n",
              "  </thead>\n",
              "  <tbody>\n",
              "    <tr>\n",
              "      <th>7498</th>\n",
              "      <td>154</td>\n",
              "      <td>86644</td>\n",
              "      <td>0.5</td>\n",
              "      <td>4.139330</td>\n",
              "      <td>{'was_impossible': False}</td>\n",
              "      <td>25</td>\n",
              "      <td>8</td>\n",
              "      <td>3.639330</td>\n",
              "    </tr>\n",
              "    <tr>\n",
              "      <th>9431</th>\n",
              "      <td>594</td>\n",
              "      <td>4902</td>\n",
              "      <td>0.5</td>\n",
              "      <td>4.164414</td>\n",
              "      <td>{'was_impossible': False}</td>\n",
              "      <td>188</td>\n",
              "      <td>6</td>\n",
              "      <td>3.664414</td>\n",
              "    </tr>\n",
              "    <tr>\n",
              "      <th>12599</th>\n",
              "      <td>580</td>\n",
              "      <td>2186</td>\n",
              "      <td>0.5</td>\n",
              "      <td>4.196262</td>\n",
              "      <td>{'was_impossible': False}</td>\n",
              "      <td>340</td>\n",
              "      <td>22</td>\n",
              "      <td>3.696262</td>\n",
              "    </tr>\n",
              "    <tr>\n",
              "      <th>5232</th>\n",
              "      <td>393</td>\n",
              "      <td>27611</td>\n",
              "      <td>0.5</td>\n",
              "      <td>4.240243</td>\n",
              "      <td>{'was_impossible': False}</td>\n",
              "      <td>100</td>\n",
              "      <td>13</td>\n",
              "      <td>3.740243</td>\n",
              "    </tr>\n",
              "    <tr>\n",
              "      <th>18221</th>\n",
              "      <td>105</td>\n",
              "      <td>4027</td>\n",
              "      <td>0.5</td>\n",
              "      <td>4.322540</td>\n",
              "      <td>{'was_impossible': False}</td>\n",
              "      <td>569</td>\n",
              "      <td>77</td>\n",
              "      <td>3.822540</td>\n",
              "    </tr>\n",
              "    <tr>\n",
              "      <th>2920</th>\n",
              "      <td>557</td>\n",
              "      <td>2700</td>\n",
              "      <td>0.5</td>\n",
              "      <td>4.326548</td>\n",
              "      <td>{'was_impossible': False}</td>\n",
              "      <td>20</td>\n",
              "      <td>57</td>\n",
              "      <td>3.826548</td>\n",
              "    </tr>\n",
              "    <tr>\n",
              "      <th>606</th>\n",
              "      <td>256</td>\n",
              "      <td>5618</td>\n",
              "      <td>0.5</td>\n",
              "      <td>4.573416</td>\n",
              "      <td>{'was_impossible': False}</td>\n",
              "      <td>135</td>\n",
              "      <td>70</td>\n",
              "      <td>4.073416</td>\n",
              "    </tr>\n",
              "    <tr>\n",
              "      <th>2891</th>\n",
              "      <td>210</td>\n",
              "      <td>296</td>\n",
              "      <td>0.5</td>\n",
              "      <td>4.600879</td>\n",
              "      <td>{'was_impossible': False}</td>\n",
              "      <td>108</td>\n",
              "      <td>259</td>\n",
              "      <td>4.100879</td>\n",
              "    </tr>\n",
              "    <tr>\n",
              "      <th>11443</th>\n",
              "      <td>594</td>\n",
              "      <td>2488</td>\n",
              "      <td>0.5</td>\n",
              "      <td>4.658570</td>\n",
              "      <td>{'was_impossible': False}</td>\n",
              "      <td>188</td>\n",
              "      <td>2</td>\n",
              "      <td>4.158570</td>\n",
              "    </tr>\n",
              "    <tr>\n",
              "      <th>12241</th>\n",
              "      <td>594</td>\n",
              "      <td>7982</td>\n",
              "      <td>0.5</td>\n",
              "      <td>4.714158</td>\n",
              "      <td>{'was_impossible': False}</td>\n",
              "      <td>188</td>\n",
              "      <td>3</td>\n",
              "      <td>4.214158</td>\n",
              "    </tr>\n",
              "  </tbody>\n",
              "</table>\n",
              "</div>"
            ],
            "text/plain": [
              "       uid    iid  rui       est                    details   Iu   Ui       err\n",
              "7498   154  86644  0.5  4.139330  {'was_impossible': False}   25    8  3.639330\n",
              "9431   594   4902  0.5  4.164414  {'was_impossible': False}  188    6  3.664414\n",
              "12599  580   2186  0.5  4.196262  {'was_impossible': False}  340   22  3.696262\n",
              "5232   393  27611  0.5  4.240243  {'was_impossible': False}  100   13  3.740243\n",
              "18221  105   4027  0.5  4.322540  {'was_impossible': False}  569   77  3.822540\n",
              "2920   557   2700  0.5  4.326548  {'was_impossible': False}   20   57  3.826548\n",
              "606    256   5618  0.5  4.573416  {'was_impossible': False}  135   70  4.073416\n",
              "2891   210    296  0.5  4.600879  {'was_impossible': False}  108  259  4.100879\n",
              "11443  594   2488  0.5  4.658570  {'was_impossible': False}  188    2  4.158570\n",
              "12241  594   7982  0.5  4.714158  {'was_impossible': False}  188    3  4.214158"
            ]
          },
          "metadata": {
            "tags": []
          },
          "execution_count": 115
        }
      ]
    },
    {
      "cell_type": "markdown",
      "metadata": {
        "id": "JF4Az6B41EsA"
      },
      "source": [
        "**Recommendations (Priotiy K items)**\n",
        "\n",
        "\n",
        "In deciding Relevant and Recommended: \n",
        "\n",
        "Relevant: True Rating > = 3.5\n",
        "\n",
        "Irrelevant: True Rating < 3.5\n",
        "\n",
        "Thus, the f1 score is: \n",
        "\n",
        "f1 score = 2 (precision recall) / (precision + recall)\n",
        "\n",
        "Thus, calculation of TP,FP,TN,FN at every threshold level (0.0 - 5.0) with steps of 0.5\n",
        "\n"
      ]
    },
    {
      "cell_type": "code",
      "metadata": {
        "id": "0gt0f6hGyn0T",
        "outputId": "1e62c9ae-2097-4fe7-87b5-42f1eb80e026",
        "colab": {
          "base_uri": "https://localhost:8080/",
          "height": 395
        }
      },
      "source": [
        "final_result = []\n",
        "\n",
        "for threshold in np.arange(0, 5.5, 0.5):\n",
        "  tp=0\n",
        "  fn=0\n",
        "  fp=0\n",
        "  tn=0\n",
        "  temp = []\n",
        "\n",
        "  for uid, _, true_r, est, _ in predictions:\n",
        "    if(true_r>=threshold):\n",
        "      if(est>=threshold):\n",
        "        tp = tp+1\n",
        "      else:\n",
        "        fn = fn+1\n",
        "    else:\n",
        "      if(est>=threshold):\n",
        "        fp = fp+1\n",
        "      else:\n",
        "        tn = tn+1   \n",
        "\n",
        "    if tp == 0:\n",
        "      precision = 0\n",
        "      recall = 0\n",
        "      f1 = 0\n",
        "    else:\n",
        "      precision = tp / (tp + fp)\n",
        "      recall = tp / (tp + fn)\n",
        "      f1 = 2 * (precision * recall) / (precision + recall)  \n",
        "\n",
        "  temp = [threshold, tp,fp,tn ,fn, precision, recall, f1]\n",
        "  final_result.append(temp)\n",
        "\n",
        "result = pd.DataFrame(final_result)\n",
        "result.rename(columns={0:'threshold', 1:'tp', 2: 'fp', 3: 'tn', 4:'fn', 5: 'Precision', 6:'Recall', 7:'F1'}, inplace=True)\n",
        "result"
      ],
      "execution_count": null,
      "outputs": [
        {
          "output_type": "execute_result",
          "data": {
            "text/html": [
              "<div>\n",
              "<style scoped>\n",
              "    .dataframe tbody tr th:only-of-type {\n",
              "        vertical-align: middle;\n",
              "    }\n",
              "\n",
              "    .dataframe tbody tr th {\n",
              "        vertical-align: top;\n",
              "    }\n",
              "\n",
              "    .dataframe thead th {\n",
              "        text-align: right;\n",
              "    }\n",
              "</style>\n",
              "<table border=\"1\" class=\"dataframe\">\n",
              "  <thead>\n",
              "    <tr style=\"text-align: right;\">\n",
              "      <th></th>\n",
              "      <th>threshold</th>\n",
              "      <th>tp</th>\n",
              "      <th>fp</th>\n",
              "      <th>tn</th>\n",
              "      <th>fn</th>\n",
              "      <th>Precision</th>\n",
              "      <th>Recall</th>\n",
              "      <th>F1</th>\n",
              "    </tr>\n",
              "  </thead>\n",
              "  <tbody>\n",
              "    <tr>\n",
              "      <th>0</th>\n",
              "      <td>0.0</td>\n",
              "      <td>20168</td>\n",
              "      <td>0</td>\n",
              "      <td>0</td>\n",
              "      <td>0</td>\n",
              "      <td>1.000000</td>\n",
              "      <td>1.000000</td>\n",
              "      <td>1.000000</td>\n",
              "    </tr>\n",
              "    <tr>\n",
              "      <th>1</th>\n",
              "      <td>0.5</td>\n",
              "      <td>20168</td>\n",
              "      <td>0</td>\n",
              "      <td>0</td>\n",
              "      <td>0</td>\n",
              "      <td>1.000000</td>\n",
              "      <td>1.000000</td>\n",
              "      <td>1.000000</td>\n",
              "    </tr>\n",
              "    <tr>\n",
              "      <th>2</th>\n",
              "      <td>1.0</td>\n",
              "      <td>19892</td>\n",
              "      <td>276</td>\n",
              "      <td>0</td>\n",
              "      <td>0</td>\n",
              "      <td>0.986315</td>\n",
              "      <td>1.000000</td>\n",
              "      <td>0.993110</td>\n",
              "    </tr>\n",
              "    <tr>\n",
              "      <th>3</th>\n",
              "      <td>1.5</td>\n",
              "      <td>19337</td>\n",
              "      <td>812</td>\n",
              "      <td>8</td>\n",
              "      <td>11</td>\n",
              "      <td>0.959700</td>\n",
              "      <td>0.999431</td>\n",
              "      <td>0.979163</td>\n",
              "    </tr>\n",
              "    <tr>\n",
              "      <th>4</th>\n",
              "      <td>2.0</td>\n",
              "      <td>18912</td>\n",
              "      <td>1092</td>\n",
              "      <td>86</td>\n",
              "      <td>78</td>\n",
              "      <td>0.945411</td>\n",
              "      <td>0.995893</td>\n",
              "      <td>0.969995</td>\n",
              "    </tr>\n",
              "    <tr>\n",
              "      <th>5</th>\n",
              "      <td>2.5</td>\n",
              "      <td>17063</td>\n",
              "      <td>2177</td>\n",
              "      <td>529</td>\n",
              "      <td>399</td>\n",
              "      <td>0.886850</td>\n",
              "      <td>0.977150</td>\n",
              "      <td>0.929813</td>\n",
              "    </tr>\n",
              "    <tr>\n",
              "      <th>6</th>\n",
              "      <td>3.0</td>\n",
              "      <td>14536</td>\n",
              "      <td>1932</td>\n",
              "      <td>1883</td>\n",
              "      <td>1817</td>\n",
              "      <td>0.882682</td>\n",
              "      <td>0.888889</td>\n",
              "      <td>0.885774</td>\n",
              "    </tr>\n",
              "    <tr>\n",
              "      <th>7</th>\n",
              "      <td>3.5</td>\n",
              "      <td>8578</td>\n",
              "      <td>2162</td>\n",
              "      <td>5642</td>\n",
              "      <td>3786</td>\n",
              "      <td>0.798696</td>\n",
              "      <td>0.693788</td>\n",
              "      <td>0.742555</td>\n",
              "    </tr>\n",
              "    <tr>\n",
              "      <th>8</th>\n",
              "      <td>4.0</td>\n",
              "      <td>3299</td>\n",
              "      <td>672</td>\n",
              "      <td>9748</td>\n",
              "      <td>6449</td>\n",
              "      <td>0.830773</td>\n",
              "      <td>0.338428</td>\n",
              "      <td>0.480939</td>\n",
              "    </tr>\n",
              "    <tr>\n",
              "      <th>9</th>\n",
              "      <td>4.5</td>\n",
              "      <td>352</td>\n",
              "      <td>138</td>\n",
              "      <td>15651</td>\n",
              "      <td>4027</td>\n",
              "      <td>0.718367</td>\n",
              "      <td>0.080384</td>\n",
              "      <td>0.144588</td>\n",
              "    </tr>\n",
              "    <tr>\n",
              "      <th>10</th>\n",
              "      <td>5.0</td>\n",
              "      <td>8</td>\n",
              "      <td>1</td>\n",
              "      <td>17522</td>\n",
              "      <td>2637</td>\n",
              "      <td>0.888889</td>\n",
              "      <td>0.003025</td>\n",
              "      <td>0.006029</td>\n",
              "    </tr>\n",
              "  </tbody>\n",
              "</table>\n",
              "</div>"
            ],
            "text/plain": [
              "    threshold     tp    fp     tn    fn  Precision    Recall        F1\n",
              "0         0.0  20168     0      0     0   1.000000  1.000000  1.000000\n",
              "1         0.5  20168     0      0     0   1.000000  1.000000  1.000000\n",
              "2         1.0  19892   276      0     0   0.986315  1.000000  0.993110\n",
              "3         1.5  19337   812      8    11   0.959700  0.999431  0.979163\n",
              "4         2.0  18912  1092     86    78   0.945411  0.995893  0.969995\n",
              "5         2.5  17063  2177    529   399   0.886850  0.977150  0.929813\n",
              "6         3.0  14536  1932   1883  1817   0.882682  0.888889  0.885774\n",
              "7         3.5   8578  2162   5642  3786   0.798696  0.693788  0.742555\n",
              "8         4.0   3299   672   9748  6449   0.830773  0.338428  0.480939\n",
              "9         4.5    352   138  15651  4027   0.718367  0.080384  0.144588\n",
              "10        5.0      8     1  17522  2637   0.888889  0.003025  0.006029"
            ]
          },
          "metadata": {
            "tags": []
          },
          "execution_count": 116
        }
      ]
    },
    {
      "cell_type": "markdown",
      "metadata": {
        "id": "6aplAMmQ2ifq"
      },
      "source": [
        " Function to compute precision and recall at K."
      ]
    },
    {
      "cell_type": "code",
      "metadata": {
        "id": "lkuJzb1_18Kg",
        "outputId": "91f01abc-5ad6-4778-cdf8-206e3cedb1d7",
        "colab": {
          "base_uri": "https://localhost:8080/"
        }
      },
      "source": [
        "#Return precision and recall at k metrics for each user\n",
        "def precision_recall_at_k(predictions, k, threshold):\n",
        "    \n",
        "\n",
        "    #Map the predictions to each user.\n",
        "    user_est_true = defaultdict(list)\n",
        "    for uid, _, true_r, est, _ in predictions:\n",
        "        user_est_true[uid].append((est, true_r))\n",
        "\n",
        "    precisions = dict()\n",
        "    recalls = dict()\n",
        "    for uid, user_ratings in user_est_true.items():\n",
        "\n",
        "        #User rating sorting by estimated value\n",
        "        user_ratings.sort(key=lambda x: x[0], reverse=True)\n",
        "\n",
        "        #Number of relevant items\n",
        "        n_rel = sum((true_r >= threshold) for (_, true_r) in user_ratings)\n",
        "\n",
        "        # Number of recommended items in top k\n",
        "        n_rec_k = sum((est >= threshold) for (est, _) in user_ratings[:k])\n",
        "\n",
        "        # Number of relevant and recommended items in top k\n",
        "        n_rel_and_rec_k = sum(((true_r >= threshold) and (est >= threshold))\n",
        "                              for (est, true_r) in user_ratings[:k])\n",
        "\n",
        "        # Precision@K: Proportion of recommended items that are relevant\n",
        "        precisions[uid] = n_rel_and_rec_k / n_rec_k if n_rec_k != 0 else 1\n",
        "\n",
        "        # Recall@K: Proportion of relevant items that are recommended\n",
        "        recalls[uid] = n_rel_and_rec_k / n_rel if n_rel != 0 else 1\n",
        "\n",
        "    return precisions, recalls\n",
        "    \n",
        "\n",
        "result=[]\n",
        "for i in range(2, 11):\n",
        "    precisions, recalls = precision_recall_at_k(predictions, k=i, threshold=2.5)\n",
        "\n",
        "    #Precision and recall averaged over users\n",
        "    prec = sum(prec for prec in precisions.values()) / len(precisions)\n",
        "    rec = sum(rec for rec in recalls.values()) / len(recalls)\n",
        "    result.append({'K': i, 'Precision': prec, 'Recall': rec})\n",
        "\n",
        "result"
      ],
      "execution_count": null,
      "outputs": [
        {
          "output_type": "execute_result",
          "data": {
            "text/plain": [
              "[{'K': 2, 'Precision': 0.9467213114754098, 'Recall': 0.21641746118049762},\n",
              " {'K': 3, 'Precision': 0.9428961748633881, 'Recall': 0.3082933010233402},\n",
              " {'K': 4, 'Precision': 0.9405737704918031, 'Recall': 0.3841293462801094},\n",
              " {'K': 5, 'Precision': 0.9337704918032793, 'Recall': 0.4460570640644501},\n",
              " {'K': 6, 'Precision': 0.9308743169398894, 'Recall': 0.5005782882337962},\n",
              " {'K': 7, 'Precision': 0.9281030444964852, 'Recall': 0.5457033063036879},\n",
              " {'K': 8, 'Precision': 0.9264051522248237, 'Recall': 0.5822828740645563},\n",
              " {'K': 9, 'Precision': 0.9246747332812917, 'Recall': 0.6127037595161373},\n",
              " {'K': 10, 'Precision': 0.9238550611501419, 'Recall': 0.6382315595734946}]"
            ]
          },
          "metadata": {
            "tags": []
          },
          "execution_count": 117
        }
      ]
    },
    {
      "cell_type": "markdown",
      "metadata": {
        "id": "tfKbjpcx3uf9"
      },
      "source": [
        "Plot the movement of precision in K recommendations"
      ]
    },
    {
      "cell_type": "code",
      "metadata": {
        "id": "1-ihlUQO3020",
        "outputId": "262f1e58-47f6-4114-fa39-6a6172da5cdf",
        "colab": {
          "base_uri": "https://localhost:8080/",
          "height": 279
        }
      },
      "source": [
        "Recomended=[]\n",
        "Precision=[]\n",
        "Recall=[]\n",
        "for i in range(0,9):\n",
        "    Recomended.append(result[i]['K'])\n",
        "    Precision.append(result[i]['Precision'])\n",
        "    Recall.append(result[i]['Recall'])\n",
        "\n",
        "from matplotlib import pyplot as plt\n",
        "plt.plot(Recomended, Precision)\n",
        "plt.xlabel('No of Recommendations')\n",
        "plt.ylabel('Precision')\n",
        "plt2 = plt.twinx()\n",
        "plt2.plot(Recomended, Recall, 'r')\n",
        "plt.ylabel('Recall')\n",
        "for tl in plt2.get_yticklabels():\n",
        "    tl.set_color('r')\n",
        "  "
      ],
      "execution_count": null,
      "outputs": [
        {
          "output_type": "display_data",
          "data": {
            "image/png": "[encoded data removed]",
            "text/plain": [
              "<Figure size 432x288 with 2 Axes>"
            ]
          },
          "metadata": {
            "tags": [],
            "needs_background": "light"
          }
        }
      ]
    },
    {
      "cell_type": "markdown",
      "metadata": {
        "id": "2tSNzMU54kOM"
      },
      "source": [
        "Make recommendations to friends and family"
      ]
    },
    {
      "cell_type": "code",
      "metadata": {
        "id": "2VJWVDr-4wTV"
      },
      "source": [
        "#data = Dataset.load_builtin('ml-100k')\n",
        "trainset = data.build_full_trainset()\n",
        "algo = SVD(n_factors=factors, n_epochs=epochs, lr_all=lr_value, reg_all=reg_value)\n",
        "algo.fit(trainset)\n",
        "\n",
        "#predict ratings for pairs (u, i) NOT in training set\n",
        "testset = trainset.build_anti_testset()\n",
        "\n",
        "#predicting the ratings for testset\n",
        "predictions = algo.test(testset)"
      ],
      "execution_count": null,
      "outputs": []
    },
    {
      "cell_type": "markdown",
      "metadata": {
        "id": "TEOUtbC-7L4K"
      },
      "source": [
        "Sort all predictions"
      ]
    },
    {
      "cell_type": "code",
      "metadata": {
        "id": "2BHojyab7LUG"
      },
      "source": [
        "# Using K=5 for recommendations \n",
        "n = 5\n",
        "for uid, user_ratings in all_pred.items():\n",
        "    user_ratings.sort(key=lambda x: x[1], reverse=True)\n",
        "    all_pred[uid] = user_ratings[:n]\n",
        "    \n",
        "temp = pd.DataFrame.from_dict(all_pred)\n",
        "temp_transpose = temp.transpose()\n",
        "\n",
        "all_pred = get_all_predictions(predictions)\n"
      ],
      "execution_count": null,
      "outputs": []
    },
    {
      "cell_type": "markdown",
      "metadata": {
        "id": "2Oo4Iu8OEhPg"
      },
      "source": [
        "A dataframe of top K (=5) movies recommended to every user."
      ]
    },
    {
      "cell_type": "code",
      "metadata": {
        "id": "iq8Wg0TsBYtI",
        "outputId": "aacf88a2-2488-42af-e46d-02aa231509ff",
        "colab": {
          "base_uri": "https://localhost:8080/"
        }
      },
      "source": [
        "def get_predictions(user_id):\n",
        "    results = temp_transpose.loc[user_id]\n",
        "    return results\n",
        "\n",
        "#test a random user_id\n",
        "user_id=120\n",
        "results = get_predictions(user_id)\n",
        "results"
      ],
      "execution_count": null,
      "outputs": [
        {
          "output_type": "execute_result",
          "data": {
            "text/plain": [
              "0    (177593, 4.4565436365216975)\n",
              "1       (951, 4.3880349312786775)\n",
              "2      (1104, 4.3776598373955355)\n",
              "3        (318, 4.356221937209631)\n",
              "4       (1178, 4.328357949815905)\n",
              "Name: 120, dtype: object"
            ]
          },
          "metadata": {
            "tags": []
          },
          "execution_count": 126
        }
      ]
    },
    {
      "cell_type": "markdown",
      "metadata": {
        "id": "cH-hGpFtFDGD"
      },
      "source": [
        "Extract the movie_id from the result of test user_ID =120"
      ]
    },
    {
      "cell_type": "code",
      "metadata": {
        "id": "qwq4S5wGBgas",
        "outputId": "3f3cb8c6-511d-47e1-8c41-61633ede1fbd",
        "colab": {
          "base_uri": "https://localhost:8080/"
        }
      },
      "source": [
        "recommended_movie_ids=[]\n",
        "for x in range(0, n):\n",
        "    recommended_movie_ids.append(results[x][0])\n",
        "recommended_movie_ids\n"
      ],
      "execution_count": null,
      "outputs": [
        {
          "output_type": "execute_result",
          "data": {
            "text/plain": [
              "[177593, 951, 1104, 318, 1178]"
            ]
          },
          "metadata": {
            "tags": []
          },
          "execution_count": 127
        }
      ]
    },
    {
      "cell_type": "markdown",
      "metadata": {
        "id": "ft7gaoVjFtzQ"
      },
      "source": [
        "Load the movie information of 100k dataset from GitHub link. "
      ]
    },
    {
      "cell_type": "code",
      "metadata": {
        "id": "esgKw1WCFl4y",
        "outputId": "1c8b9c43-1f1f-45fc-e41a-4e6d57754a42",
        "colab": {
          "base_uri": "https://localhost:8080/",
          "height": 206
        }
      },
      "source": [
        "movie_url = 'https://raw.githubusercontent.com/MutugiD/Data-Problems/master/Recommender/movie_info.csv'\n",
        "movie = pd.read_csv(movie_url, encoding = 'ISO-8859-1')\n",
        "movie.head()"
      ],
      "execution_count": null,
      "outputs": [
        {
          "output_type": "execute_result",
          "data": {
            "text/html": [
              "<div>\n",
              "<style scoped>\n",
              "    .dataframe tbody tr th:only-of-type {\n",
              "        vertical-align: middle;\n",
              "    }\n",
              "\n",
              "    .dataframe tbody tr th {\n",
              "        vertical-align: top;\n",
              "    }\n",
              "\n",
              "    .dataframe thead th {\n",
              "        text-align: right;\n",
              "    }\n",
              "</style>\n",
              "<table border=\"1\" class=\"dataframe\">\n",
              "  <thead>\n",
              "    <tr style=\"text-align: right;\">\n",
              "      <th></th>\n",
              "      <th>movieId</th>\n",
              "      <th>title</th>\n",
              "      <th>genres</th>\n",
              "    </tr>\n",
              "  </thead>\n",
              "  <tbody>\n",
              "    <tr>\n",
              "      <th>0</th>\n",
              "      <td>1</td>\n",
              "      <td>Toy Story (1995)</td>\n",
              "      <td>Adventure|Animation|Children|Comedy|Fantasy</td>\n",
              "    </tr>\n",
              "    <tr>\n",
              "      <th>1</th>\n",
              "      <td>2</td>\n",
              "      <td>Jumanji (1995)</td>\n",
              "      <td>Adventure|Children|Fantasy</td>\n",
              "    </tr>\n",
              "    <tr>\n",
              "      <th>2</th>\n",
              "      <td>3</td>\n",
              "      <td>Grumpier Old Men (1995)</td>\n",
              "      <td>Comedy|Romance</td>\n",
              "    </tr>\n",
              "    <tr>\n",
              "      <th>3</th>\n",
              "      <td>4</td>\n",
              "      <td>Waiting to Exhale (1995)</td>\n",
              "      <td>Comedy|Drama|Romance</td>\n",
              "    </tr>\n",
              "    <tr>\n",
              "      <th>4</th>\n",
              "      <td>5</td>\n",
              "      <td>Father of the Bride Part II (1995)</td>\n",
              "      <td>Comedy</td>\n",
              "    </tr>\n",
              "  </tbody>\n",
              "</table>\n",
              "</div>"
            ],
            "text/plain": [
              "   movieId  ...                                       genres\n",
              "0        1  ...  Adventure|Animation|Children|Comedy|Fantasy\n",
              "1        2  ...                   Adventure|Children|Fantasy\n",
              "2        3  ...                               Comedy|Romance\n",
              "3        4  ...                         Comedy|Drama|Romance\n",
              "4        5  ...                                       Comedy\n",
              "\n",
              "[5 rows x 3 columns]"
            ]
          },
          "metadata": {
            "tags": []
          },
          "execution_count": 138
        }
      ]
    },
    {
      "cell_type": "markdown",
      "metadata": {
        "id": "SHnKsFBJIYvf"
      },
      "source": [
        "Use the movie information to  find out the names+ addition details of the recommended movies."
      ]
    },
    {
      "cell_type": "code",
      "metadata": {
        "id": "Gd0v-Sb4ITnE",
        "outputId": "3b2c641e-5e99-49cf-9bc5-af2f30a6c710",
        "colab": {
          "base_uri": "https://localhost:8080/",
          "height": 206
        }
      },
      "source": [
        "recommended_movies = movie[movie['movieId'].isin(recommended_movie_ids)]\n",
        "recommended_movies"
      ],
      "execution_count": null,
      "outputs": [
        {
          "output_type": "execute_result",
          "data": {
            "text/html": [
              "<div>\n",
              "<style scoped>\n",
              "    .dataframe tbody tr th:only-of-type {\n",
              "        vertical-align: middle;\n",
              "    }\n",
              "\n",
              "    .dataframe tbody tr th {\n",
              "        vertical-align: top;\n",
              "    }\n",
              "\n",
              "    .dataframe thead th {\n",
              "        text-align: right;\n",
              "    }\n",
              "</style>\n",
              "<table border=\"1\" class=\"dataframe\">\n",
              "  <thead>\n",
              "    <tr style=\"text-align: right;\">\n",
              "      <th></th>\n",
              "      <th>movieId</th>\n",
              "      <th>title</th>\n",
              "      <th>genres</th>\n",
              "    </tr>\n",
              "  </thead>\n",
              "  <tbody>\n",
              "    <tr>\n",
              "      <th>277</th>\n",
              "      <td>318</td>\n",
              "      <td>Shawshank Redemption, The (1994)</td>\n",
              "      <td>Crime|Drama</td>\n",
              "    </tr>\n",
              "    <tr>\n",
              "      <th>731</th>\n",
              "      <td>951</td>\n",
              "      <td>His Girl Friday (1940)</td>\n",
              "      <td>Comedy|Romance</td>\n",
              "    </tr>\n",
              "    <tr>\n",
              "      <th>841</th>\n",
              "      <td>1104</td>\n",
              "      <td>Streetcar Named Desire, A (1951)</td>\n",
              "      <td>Drama</td>\n",
              "    </tr>\n",
              "    <tr>\n",
              "      <th>883</th>\n",
              "      <td>1178</td>\n",
              "      <td>Paths of Glory (1957)</td>\n",
              "      <td>Drama|War</td>\n",
              "    </tr>\n",
              "    <tr>\n",
              "      <th>9618</th>\n",
              "      <td>177593</td>\n",
              "      <td>Three Billboards Outside Ebbing, Missouri (2017)</td>\n",
              "      <td>Crime|Drama</td>\n",
              "    </tr>\n",
              "  </tbody>\n",
              "</table>\n",
              "</div>"
            ],
            "text/plain": [
              "      movieId                                             title          genres\n",
              "277       318                  Shawshank Redemption, The (1994)     Crime|Drama\n",
              "731       951                            His Girl Friday (1940)  Comedy|Romance\n",
              "841      1104                  Streetcar Named Desire, A (1951)           Drama\n",
              "883      1178                             Paths of Glory (1957)       Drama|War\n",
              "9618   177593  Three Billboards Outside Ebbing, Missouri (2017)     Crime|Drama"
            ]
          },
          "metadata": {
            "tags": []
          },
          "execution_count": 140
        }
      ]
    }
  ]
}