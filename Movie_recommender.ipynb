{
  "nbformat": 4,
  "nbformat_minor": 0,
  "metadata": {
    "colab": {
      "name": "Movie_recommender",
      "provenance": [],
      "authorship_tag": "ABX9TyPEsPh/NdzFZ31x2fK9bVq4",
      "include_colab_link": true
    },
    "kernelspec": {
      "name": "python3",
      "display_name": "Python 3"
    }
  },
  "cells": [
    {
      "cell_type": "markdown",
      "metadata": {
        "id": "view-in-github",
        "colab_type": "text"
      },
      "source": [
        "<a href=\"https://colab.research.google.com/github/MutugiD/Data-Problems/blob/master/Movie_recommender.ipynb\" target=\"_parent\"><img src=\"https://colab.research.google.com/assets/colab-badge.svg\" alt=\"Open In Colab\"/></a>"
      ]
    },
    {
      "cell_type": "code",
      "metadata": {
        "id": "WC5siiy_YoRf"
      },
      "source": [
        "import pandas as pd\n",
        "import numpy as np\n",
        "from surprise import Reader\n",
        "from surprise import Dataset\n",
        "from surprise import NormalPredictor\n",
        "from surprise import KNNBasic\n",
        "from surprise import KNNWithMeans\n",
        "from surprise import SVD\n",
        "from surprise import SVDpp\n",
        "from surprise import KNNWithZScore\n",
        "from surprise import KNNBaseline\n",
        "from surprise import CoClustering\n",
        "from surprise import NMF\n",
        "from surprise import SlopeOne\n",
        "from surprise.accuracy import rmse\n",
        "from surprise import accuracy\n",
        "from surprise.model_selection import KFold\n",
        "from surprise.model_selection import cross_validate\n",
        "from surprise.model_selection import train_test_split\n",
        "from surprise.model_selection import GridSearchCV\n",
        "from collections import defaultdict"
      ],
      "execution_count": 15,
      "outputs": []
    },
    {
      "cell_type": "markdown",
      "metadata": {
        "id": "4JLcyHftZ1pH"
      },
      "source": [
        "Load the movielens-100k dataset"
      ]
    },
    {
      "cell_type": "code",
      "metadata": {
        "id": "6m0Kv5HnZyse"
      },
      "source": [
        "data = Dataset.load_builtin('ml-100k', prompt = False)"
      ],
      "execution_count": 17,
      "outputs": []
    },
    {
      "cell_type": "markdown",
      "metadata": {
        "id": "KZtG8nK6aAQd"
      },
      "source": [
        "Create a benchmark. Iterate over SVD, NMF, NormalPredictor, KNNBasic "
      ]
    },
    {
      "cell_type": "code",
      "metadata": {
        "id": "cAwu0CGuZ-Lr",
        "outputId": "55b26fdb-2c2e-4921-8a30-4edac9aedae9",
        "colab": {
          "base_uri": "https://localhost:8080/"
        }
      },
      "source": [
        "benchmark = []\n",
        "for algo in [SVD(), NMF(), NormalPredictor(), KNNBasic()]:\n",
        "    # Perform cross validation\n",
        "    results = cross_validate(algo, data, measures=['RMSE'], cv=3, verbose=False)\n",
        "    info = pd.DataFrame.from_dict(results).mean(axis=0)\n",
        "    info = info.append(pd.Series([str(algo).split(' ')[0].split('.')[-1]],index=['Algorithm']))\n",
        "    benchmark.append(info)"
      ],
      "execution_count": 18,
      "outputs": [
        {
          "output_type": "stream",
          "text": [
            "Computing the msd similarity matrix...\n",
            "Done computing similarity matrix.\n",
            "Computing the msd similarity matrix...\n",
            "Done computing similarity matrix.\n",
            "Computing the msd similarity matrix...\n",
            "Done computing similarity matrix.\n"
          ],
          "name": "stdout"
        }
      ]
    },
    {
      "cell_type": "code",
      "metadata": {
        "id": "xvyUI6FVbqF5",
        "outputId": "116ba3a9-4c4a-47eb-c44e-0fcf59762d77",
        "colab": {
          "base_uri": "https://localhost:8080/",
          "height": 206
        }
      },
      "source": [
        "algo_data = pd.DataFrame(benchmark).set_index('Algorithm').sort_values('test_rmse')\n",
        "algo_data"
      ],
      "execution_count": 19,
      "outputs": [
        {
          "output_type": "execute_result",
          "data": {
            "text/html": [
              "<div>\n",
              "<style scoped>\n",
              "    .dataframe tbody tr th:only-of-type {\n",
              "        vertical-align: middle;\n",
              "    }\n",
              "\n",
              "    .dataframe tbody tr th {\n",
              "        vertical-align: top;\n",
              "    }\n",
              "\n",
              "    .dataframe thead th {\n",
              "        text-align: right;\n",
              "    }\n",
              "</style>\n",
              "<table border=\"1\" class=\"dataframe\">\n",
              "  <thead>\n",
              "    <tr style=\"text-align: right;\">\n",
              "      <th></th>\n",
              "      <th>test_rmse</th>\n",
              "      <th>fit_time</th>\n",
              "      <th>test_time</th>\n",
              "    </tr>\n",
              "    <tr>\n",
              "      <th>Algorithm</th>\n",
              "      <th></th>\n",
              "      <th></th>\n",
              "      <th></th>\n",
              "    </tr>\n",
              "  </thead>\n",
              "  <tbody>\n",
              "    <tr>\n",
              "      <th>SVD</th>\n",
              "      <td>0.944447</td>\n",
              "      <td>4.058422</td>\n",
              "      <td>0.311620</td>\n",
              "    </tr>\n",
              "    <tr>\n",
              "      <th>NMF</th>\n",
              "      <td>0.976202</td>\n",
              "      <td>4.353553</td>\n",
              "      <td>0.273518</td>\n",
              "    </tr>\n",
              "    <tr>\n",
              "      <th>KNNBasic</th>\n",
              "      <td>0.990206</td>\n",
              "      <td>0.279518</td>\n",
              "      <td>5.293068</td>\n",
              "    </tr>\n",
              "    <tr>\n",
              "      <th>NormalPredictor</th>\n",
              "      <td>1.515411</td>\n",
              "      <td>0.117885</td>\n",
              "      <td>0.320336</td>\n",
              "    </tr>\n",
              "  </tbody>\n",
              "</table>\n",
              "</div>"
            ],
            "text/plain": [
              "                 test_rmse  fit_time  test_time\n",
              "Algorithm                                      \n",
              "SVD               0.944447  4.058422   0.311620\n",
              "NMF               0.976202  4.353553   0.273518\n",
              "KNNBasic          0.990206  0.279518   5.293068\n",
              "NormalPredictor   1.515411  0.117885   0.320336"
            ]
          },
          "metadata": {
            "tags": []
          },
          "execution_count": 19
        }
      ]
    },
    {
      "cell_type": "markdown",
      "metadata": {
        "id": "x6wWoEh5c8E1"
      },
      "source": [
        "\n",
        "Tunining algorithmic parameters to find the best fits by use of grid search"
      ]
    },
    {
      "cell_type": "code",
      "metadata": {
        "id": "rJ2-HYWWc178",
        "outputId": "a9625cf4-517c-4b9e-a63c-da26b1e6f3d9",
        "colab": {
          "base_uri": "https://localhost:8080/"
        }
      },
      "source": [
        "parameters= {'n_factors': [25, 30, 35, 40], 'n_epochs': [15, 20, 25], 'lr_all': [0.001, 0.003, 0.005, 0.008],\n",
        "              'reg_all': [0.08, 0.1, 0.15]}\n",
        "grid= GridSearchCV(SVD, parameters, measures=['rmse', 'mae'], cv=3)\n",
        "trainset, testset = train_test_split(data, test_size=0.2)\n",
        "grid.fit(data)\n",
        "algo_best = grid.best_estimator['rmse']\n",
        "print(grid.best_score['rmse'])\n",
        "print(grid.best_params['rmse'])\n",
        "\n",
        "t_num = grid.best_params\n",
        "factors = t_num['rmse']['n_factors']\n",
        "epochs = t_num['rmse']['n_epochs']\n",
        "lr_value = t_num['rmse']['lr_all']\n",
        "reg_value = t_num['rmse']['reg_all']\n"
      ],
      "execution_count": 20,
      "outputs": [
        {
          "output_type": "stream",
          "text": [
            "0.9273949991891661\n",
            "{'n_factors': 40, 'n_epochs': 25, 'lr_all': 0.008, 'reg_all': 0.08}\n"
          ],
          "name": "stdout"
        }
      ]
    },
    {
      "cell_type": "code",
      "metadata": {
        "id": "yiRVnN6vnefa",
        "outputId": "f53b638e-2014-442f-d96f-d2ad8d46c01f",
        "colab": {
          "base_uri": "https://localhost:8080/"
        }
      },
      "source": [
        "trainset, testset = train_test_split(data, test_size=0.20)\n",
        "algo_algo = SVD(n_factors=factors, n_epochs=epochs, lr_all=lr_value, reg_all=reg_value)\n",
        "predictions = algo_algo.fit(trainset).test(testset)\n",
        "accuracy.rmse(predictions)"
      ],
      "execution_count": 21,
      "outputs": [
        {
          "output_type": "stream",
          "text": [
            "RMSE: 0.9223\n"
          ],
          "name": "stdout"
        },
        {
          "output_type": "execute_result",
          "data": {
            "text/plain": [
              "0.9223081866967705"
            ]
          },
          "metadata": {
            "tags": []
          },
          "execution_count": 21
        }
      ]
    },
    {
      "cell_type": "markdown",
      "metadata": {
        "id": "Kgcv36gdubWW"
      },
      "source": [
        "Checking how good or bad the predictions are: \n",
        "UID: user-id\n",
        "\n",
        "iid: item id\n",
        "\n",
        "Rui: the rating given by the user\n",
        "\n",
        "est: rating estimated by the model\n",
        "\n",
        "Iu: No of items rated by the user\n",
        "\n",
        "UI: number of users that have rated this item\n",
        "\n",
        "err: abs difference between predicted rating and the actual rating."
      ]
    },
    {
      "cell_type": "code",
      "metadata": {
        "id": "Zf--2FqRuJPg"
      },
      "source": [
        "#Gets the user_id, returns no of items rated by user\n",
        "def get_Iu(uid):\n",
        "    try:\n",
        "        return len(trainset.ur[trainset.to_inner_uid(uid)])\n",
        "    except ValueError:\n",
        "        return 0\n",
        "#Gets raw id of an item, returns no of users who have rated the item\n",
        "def get_Ui(iid):\n",
        "    try: \n",
        "        return len(trainset.ir[trainset.to_inner_iid(iid)])\n",
        "    except ValueError:\n",
        "        return 0\n",
        "df_predictions = pd.DataFrame(predictions, columns=['uid', 'iid', 'rui', 'est', 'details'])\n",
        "df_predictions['Iu'] = df_predictions.uid.apply(get_Iu)\n",
        "df_predictions['Ui'] = df_predictions.iid.apply(get_Ui)\n",
        "df_predictions['err'] = abs(df_predictions.est - df_predictions.rui)\n",
        "best_predictions = df_predictions.sort_values(by='err')[:10]\n",
        "worst_predictions = df_predictions.sort_values(by='err')[-10:]\n"
      ],
      "execution_count": 36,
      "outputs": []
    },
    {
      "cell_type": "code",
      "metadata": {
        "id": "6yjR57ha0nJ_",
        "outputId": "c3489a05-0286-4c05-a554-e68077e760e5",
        "colab": {
          "base_uri": "https://localhost:8080/",
          "height": 363
        }
      },
      "source": [
        "best_predictions"
      ],
      "execution_count": 37,
      "outputs": [
        {
          "output_type": "execute_result",
          "data": {
            "text/html": [
              "<div>\n",
              "<style scoped>\n",
              "    .dataframe tbody tr th:only-of-type {\n",
              "        vertical-align: middle;\n",
              "    }\n",
              "\n",
              "    .dataframe tbody tr th {\n",
              "        vertical-align: top;\n",
              "    }\n",
              "\n",
              "    .dataframe thead th {\n",
              "        text-align: right;\n",
              "    }\n",
              "</style>\n",
              "<table border=\"1\" class=\"dataframe\">\n",
              "  <thead>\n",
              "    <tr style=\"text-align: right;\">\n",
              "      <th></th>\n",
              "      <th>uid</th>\n",
              "      <th>iid</th>\n",
              "      <th>rui</th>\n",
              "      <th>est</th>\n",
              "      <th>details</th>\n",
              "      <th>Iu</th>\n",
              "      <th>Ui</th>\n",
              "      <th>err</th>\n",
              "    </tr>\n",
              "  </thead>\n",
              "  <tbody>\n",
              "    <tr>\n",
              "      <th>19874</th>\n",
              "      <td>617</td>\n",
              "      <td>424</td>\n",
              "      <td>1.0</td>\n",
              "      <td>1.0</td>\n",
              "      <td>{'was_impossible': False}</td>\n",
              "      <td>88</td>\n",
              "      <td>15</td>\n",
              "      <td>0.0</td>\n",
              "    </tr>\n",
              "    <tr>\n",
              "      <th>5695</th>\n",
              "      <td>774</td>\n",
              "      <td>398</td>\n",
              "      <td>1.0</td>\n",
              "      <td>1.0</td>\n",
              "      <td>{'was_impossible': False}</td>\n",
              "      <td>173</td>\n",
              "      <td>20</td>\n",
              "      <td>0.0</td>\n",
              "    </tr>\n",
              "    <tr>\n",
              "      <th>8632</th>\n",
              "      <td>774</td>\n",
              "      <td>1079</td>\n",
              "      <td>1.0</td>\n",
              "      <td>1.0</td>\n",
              "      <td>{'was_impossible': False}</td>\n",
              "      <td>173</td>\n",
              "      <td>32</td>\n",
              "      <td>0.0</td>\n",
              "    </tr>\n",
              "    <tr>\n",
              "      <th>12757</th>\n",
              "      <td>774</td>\n",
              "      <td>545</td>\n",
              "      <td>1.0</td>\n",
              "      <td>1.0</td>\n",
              "      <td>{'was_impossible': False}</td>\n",
              "      <td>173</td>\n",
              "      <td>9</td>\n",
              "      <td>0.0</td>\n",
              "    </tr>\n",
              "    <tr>\n",
              "      <th>17161</th>\n",
              "      <td>928</td>\n",
              "      <td>1007</td>\n",
              "      <td>5.0</td>\n",
              "      <td>5.0</td>\n",
              "      <td>{'was_impossible': False}</td>\n",
              "      <td>24</td>\n",
              "      <td>35</td>\n",
              "      <td>0.0</td>\n",
              "    </tr>\n",
              "    <tr>\n",
              "      <th>19204</th>\n",
              "      <td>270</td>\n",
              "      <td>173</td>\n",
              "      <td>5.0</td>\n",
              "      <td>5.0</td>\n",
              "      <td>{'was_impossible': False}</td>\n",
              "      <td>114</td>\n",
              "      <td>266</td>\n",
              "      <td>0.0</td>\n",
              "    </tr>\n",
              "    <tr>\n",
              "      <th>5546</th>\n",
              "      <td>628</td>\n",
              "      <td>302</td>\n",
              "      <td>5.0</td>\n",
              "      <td>5.0</td>\n",
              "      <td>{'was_impossible': False}</td>\n",
              "      <td>21</td>\n",
              "      <td>234</td>\n",
              "      <td>0.0</td>\n",
              "    </tr>\n",
              "    <tr>\n",
              "      <th>17575</th>\n",
              "      <td>507</td>\n",
              "      <td>306</td>\n",
              "      <td>5.0</td>\n",
              "      <td>5.0</td>\n",
              "      <td>{'was_impossible': False}</td>\n",
              "      <td>46</td>\n",
              "      <td>75</td>\n",
              "      <td>0.0</td>\n",
              "    </tr>\n",
              "    <tr>\n",
              "      <th>18480</th>\n",
              "      <td>181</td>\n",
              "      <td>424</td>\n",
              "      <td>1.0</td>\n",
              "      <td>1.0</td>\n",
              "      <td>{'was_impossible': False}</td>\n",
              "      <td>354</td>\n",
              "      <td>15</td>\n",
              "      <td>0.0</td>\n",
              "    </tr>\n",
              "    <tr>\n",
              "      <th>11242</th>\n",
              "      <td>592</td>\n",
              "      <td>56</td>\n",
              "      <td>5.0</td>\n",
              "      <td>5.0</td>\n",
              "      <td>{'was_impossible': False}</td>\n",
              "      <td>285</td>\n",
              "      <td>323</td>\n",
              "      <td>0.0</td>\n",
              "    </tr>\n",
              "  </tbody>\n",
              "</table>\n",
              "</div>"
            ],
            "text/plain": [
              "       uid   iid  rui  est                    details   Iu   Ui  err\n",
              "19874  617   424  1.0  1.0  {'was_impossible': False}   88   15  0.0\n",
              "5695   774   398  1.0  1.0  {'was_impossible': False}  173   20  0.0\n",
              "8632   774  1079  1.0  1.0  {'was_impossible': False}  173   32  0.0\n",
              "12757  774   545  1.0  1.0  {'was_impossible': False}  173    9  0.0\n",
              "17161  928  1007  5.0  5.0  {'was_impossible': False}   24   35  0.0\n",
              "19204  270   173  5.0  5.0  {'was_impossible': False}  114  266  0.0\n",
              "5546   628   302  5.0  5.0  {'was_impossible': False}   21  234  0.0\n",
              "17575  507   306  5.0  5.0  {'was_impossible': False}   46   75  0.0\n",
              "18480  181   424  1.0  1.0  {'was_impossible': False}  354   15  0.0\n",
              "11242  592    56  5.0  5.0  {'was_impossible': False}  285  323  0.0"
            ]
          },
          "metadata": {
            "tags": []
          },
          "execution_count": 37
        }
      ]
    },
    {
      "cell_type": "code",
      "metadata": {
        "id": "zxv9sE8J0q3T",
        "outputId": "b5c1d7c3-f161-422e-8c3e-9ce48a39daf0",
        "colab": {
          "base_uri": "https://localhost:8080/",
          "height": 363
        }
      },
      "source": [
        "worst_predictions"
      ],
      "execution_count": 38,
      "outputs": [
        {
          "output_type": "execute_result",
          "data": {
            "text/html": [
              "<div>\n",
              "<style scoped>\n",
              "    .dataframe tbody tr th:only-of-type {\n",
              "        vertical-align: middle;\n",
              "    }\n",
              "\n",
              "    .dataframe tbody tr th {\n",
              "        vertical-align: top;\n",
              "    }\n",
              "\n",
              "    .dataframe thead th {\n",
              "        text-align: right;\n",
              "    }\n",
              "</style>\n",
              "<table border=\"1\" class=\"dataframe\">\n",
              "  <thead>\n",
              "    <tr style=\"text-align: right;\">\n",
              "      <th></th>\n",
              "      <th>uid</th>\n",
              "      <th>iid</th>\n",
              "      <th>rui</th>\n",
              "      <th>est</th>\n",
              "      <th>details</th>\n",
              "      <th>Iu</th>\n",
              "      <th>Ui</th>\n",
              "      <th>err</th>\n",
              "    </tr>\n",
              "  </thead>\n",
              "  <tbody>\n",
              "    <tr>\n",
              "      <th>17040</th>\n",
              "      <td>697</td>\n",
              "      <td>1022</td>\n",
              "      <td>1.0</td>\n",
              "      <td>4.306887</td>\n",
              "      <td>{'was_impossible': False}</td>\n",
              "      <td>84</td>\n",
              "      <td>26</td>\n",
              "      <td>3.306887</td>\n",
              "    </tr>\n",
              "    <tr>\n",
              "      <th>19328</th>\n",
              "      <td>272</td>\n",
              "      <td>133</td>\n",
              "      <td>1.0</td>\n",
              "      <td>4.368920</td>\n",
              "      <td>{'was_impossible': False}</td>\n",
              "      <td>34</td>\n",
              "      <td>131</td>\n",
              "      <td>3.368920</td>\n",
              "    </tr>\n",
              "    <tr>\n",
              "      <th>6763</th>\n",
              "      <td>312</td>\n",
              "      <td>265</td>\n",
              "      <td>1.0</td>\n",
              "      <td>4.375665</td>\n",
              "      <td>{'was_impossible': False}</td>\n",
              "      <td>164</td>\n",
              "      <td>184</td>\n",
              "      <td>3.375665</td>\n",
              "    </tr>\n",
              "    <tr>\n",
              "      <th>10478</th>\n",
              "      <td>405</td>\n",
              "      <td>842</td>\n",
              "      <td>5.0</td>\n",
              "      <td>1.513135</td>\n",
              "      <td>{'was_impossible': False}</td>\n",
              "      <td>606</td>\n",
              "      <td>18</td>\n",
              "      <td>3.486865</td>\n",
              "    </tr>\n",
              "    <tr>\n",
              "      <th>4617</th>\n",
              "      <td>777</td>\n",
              "      <td>100</td>\n",
              "      <td>1.0</td>\n",
              "      <td>4.531984</td>\n",
              "      <td>{'was_impossible': False}</td>\n",
              "      <td>27</td>\n",
              "      <td>399</td>\n",
              "      <td>3.531984</td>\n",
              "    </tr>\n",
              "    <tr>\n",
              "      <th>14126</th>\n",
              "      <td>239</td>\n",
              "      <td>64</td>\n",
              "      <td>1.0</td>\n",
              "      <td>4.559547</td>\n",
              "      <td>{'was_impossible': False}</td>\n",
              "      <td>123</td>\n",
              "      <td>227</td>\n",
              "      <td>3.559547</td>\n",
              "    </tr>\n",
              "    <tr>\n",
              "      <th>16913</th>\n",
              "      <td>127</td>\n",
              "      <td>690</td>\n",
              "      <td>1.0</td>\n",
              "      <td>4.712927</td>\n",
              "      <td>{'was_impossible': False}</td>\n",
              "      <td>18</td>\n",
              "      <td>127</td>\n",
              "      <td>3.712927</td>\n",
              "    </tr>\n",
              "    <tr>\n",
              "      <th>1045</th>\n",
              "      <td>127</td>\n",
              "      <td>268</td>\n",
              "      <td>1.0</td>\n",
              "      <td>4.758874</td>\n",
              "      <td>{'was_impossible': False}</td>\n",
              "      <td>18</td>\n",
              "      <td>199</td>\n",
              "      <td>3.758874</td>\n",
              "    </tr>\n",
              "    <tr>\n",
              "      <th>19177</th>\n",
              "      <td>127</td>\n",
              "      <td>750</td>\n",
              "      <td>1.0</td>\n",
              "      <td>4.784178</td>\n",
              "      <td>{'was_impossible': False}</td>\n",
              "      <td>18</td>\n",
              "      <td>100</td>\n",
              "      <td>3.784178</td>\n",
              "    </tr>\n",
              "    <tr>\n",
              "      <th>10610</th>\n",
              "      <td>850</td>\n",
              "      <td>98</td>\n",
              "      <td>1.0</td>\n",
              "      <td>4.916977</td>\n",
              "      <td>{'was_impossible': False}</td>\n",
              "      <td>40</td>\n",
              "      <td>313</td>\n",
              "      <td>3.916977</td>\n",
              "    </tr>\n",
              "  </tbody>\n",
              "</table>\n",
              "</div>"
            ],
            "text/plain": [
              "       uid   iid  rui       est                    details   Iu   Ui       err\n",
              "17040  697  1022  1.0  4.306887  {'was_impossible': False}   84   26  3.306887\n",
              "19328  272   133  1.0  4.368920  {'was_impossible': False}   34  131  3.368920\n",
              "6763   312   265  1.0  4.375665  {'was_impossible': False}  164  184  3.375665\n",
              "10478  405   842  5.0  1.513135  {'was_impossible': False}  606   18  3.486865\n",
              "4617   777   100  1.0  4.531984  {'was_impossible': False}   27  399  3.531984\n",
              "14126  239    64  1.0  4.559547  {'was_impossible': False}  123  227  3.559547\n",
              "16913  127   690  1.0  4.712927  {'was_impossible': False}   18  127  3.712927\n",
              "1045   127   268  1.0  4.758874  {'was_impossible': False}   18  199  3.758874\n",
              "19177  127   750  1.0  4.784178  {'was_impossible': False}   18  100  3.784178\n",
              "10610  850    98  1.0  4.916977  {'was_impossible': False}   40  313  3.916977"
            ]
          },
          "metadata": {
            "tags": []
          },
          "execution_count": 38
        }
      ]
    },
    {
      "cell_type": "markdown",
      "metadata": {
        "id": "JF4Az6B41EsA"
      },
      "source": [
        "Recommendations (Priotiy K items)\n",
        "\n",
        "\n",
        "In deciding Relevant and Recommended: \n",
        "\n",
        "Relevant: True Rating > = 3.5\n",
        "\n",
        "Irrelevant: True Rating < 3.5\n",
        "\n",
        "Thus, the f1 score is: \n",
        "\n",
        "f1 score = 2 (precision recall) / (precision + recall)\n",
        "\n",
        "Thus, calculation of TP,FP,TN,FN at every threshold level (0.0 - 5.0) with steps of 0.5\n",
        "\n"
      ]
    },
    {
      "cell_type": "code",
      "metadata": {
        "id": "0gt0f6hGyn0T",
        "outputId": "3568629f-d777-43c5-b457-3dfdd707cafc",
        "colab": {
          "base_uri": "https://localhost:8080/",
          "height": 395
        }
      },
      "source": [
        "final_result = []\n",
        "\n",
        "for threshold in np.arange(0, 5.5, 0.5):\n",
        "  tp=0\n",
        "  fn=0\n",
        "  fp=0\n",
        "  tn=0\n",
        "  temp = []\n",
        "\n",
        "  for uid, _, true_r, est, _ in predictions:\n",
        "    if(true_r>=threshold):\n",
        "      if(est>=threshold):\n",
        "        tp = tp+1\n",
        "      else:\n",
        "        fn = fn+1\n",
        "    else:\n",
        "      if(est>=threshold):\n",
        "        fp = fp+1\n",
        "      else:\n",
        "        tn = tn+1   \n",
        "\n",
        "    if tp == 0:\n",
        "      precision = 0\n",
        "      recall = 0\n",
        "      f1 = 0\n",
        "    else:\n",
        "      precision = tp / (tp + fp)\n",
        "      recall = tp / (tp + fn)\n",
        "      f1 = 2 * (precision * recall) / (precision + recall)  \n",
        "\n",
        "  temp = [threshold, tp,fp,tn ,fn, precision, recall, f1]\n",
        "  final_result.append(temp)\n",
        "\n",
        "result = pd.DataFrame(final_result)\n",
        "result.rename(columns={0:'threshold', 1:'tp', 2: 'fp', 3: 'tn', 4:'fn', 5: 'Precision', 6:'Recall', 7:'F1'}, inplace=True)\n",
        "result"
      ],
      "execution_count": 41,
      "outputs": [
        {
          "output_type": "execute_result",
          "data": {
            "text/html": [
              "<div>\n",
              "<style scoped>\n",
              "    .dataframe tbody tr th:only-of-type {\n",
              "        vertical-align: middle;\n",
              "    }\n",
              "\n",
              "    .dataframe tbody tr th {\n",
              "        vertical-align: top;\n",
              "    }\n",
              "\n",
              "    .dataframe thead th {\n",
              "        text-align: right;\n",
              "    }\n",
              "</style>\n",
              "<table border=\"1\" class=\"dataframe\">\n",
              "  <thead>\n",
              "    <tr style=\"text-align: right;\">\n",
              "      <th></th>\n",
              "      <th>threshold</th>\n",
              "      <th>tp</th>\n",
              "      <th>fp</th>\n",
              "      <th>tn</th>\n",
              "      <th>fn</th>\n",
              "      <th>Precision</th>\n",
              "      <th>Recall</th>\n",
              "      <th>F1</th>\n",
              "    </tr>\n",
              "  </thead>\n",
              "  <tbody>\n",
              "    <tr>\n",
              "      <th>0</th>\n",
              "      <td>0.0</td>\n",
              "      <td>20000</td>\n",
              "      <td>0</td>\n",
              "      <td>0</td>\n",
              "      <td>0</td>\n",
              "      <td>1.000000</td>\n",
              "      <td>1.000000</td>\n",
              "      <td>1.000000</td>\n",
              "    </tr>\n",
              "    <tr>\n",
              "      <th>1</th>\n",
              "      <td>0.5</td>\n",
              "      <td>20000</td>\n",
              "      <td>0</td>\n",
              "      <td>0</td>\n",
              "      <td>0</td>\n",
              "      <td>1.000000</td>\n",
              "      <td>1.000000</td>\n",
              "      <td>1.000000</td>\n",
              "    </tr>\n",
              "    <tr>\n",
              "      <th>2</th>\n",
              "      <td>1.0</td>\n",
              "      <td>20000</td>\n",
              "      <td>0</td>\n",
              "      <td>0</td>\n",
              "      <td>0</td>\n",
              "      <td>1.000000</td>\n",
              "      <td>1.000000</td>\n",
              "      <td>1.000000</td>\n",
              "    </tr>\n",
              "    <tr>\n",
              "      <th>3</th>\n",
              "      <td>1.5</td>\n",
              "      <td>18782</td>\n",
              "      <td>1149</td>\n",
              "      <td>57</td>\n",
              "      <td>12</td>\n",
              "      <td>0.942351</td>\n",
              "      <td>0.999361</td>\n",
              "      <td>0.970019</td>\n",
              "    </tr>\n",
              "    <tr>\n",
              "      <th>4</th>\n",
              "      <td>2.0</td>\n",
              "      <td>18664</td>\n",
              "      <td>1004</td>\n",
              "      <td>202</td>\n",
              "      <td>130</td>\n",
              "      <td>0.948953</td>\n",
              "      <td>0.993083</td>\n",
              "      <td>0.970516</td>\n",
              "    </tr>\n",
              "    <tr>\n",
              "      <th>5</th>\n",
              "      <td>2.5</td>\n",
              "      <td>16118</td>\n",
              "      <td>2740</td>\n",
              "      <td>796</td>\n",
              "      <td>346</td>\n",
              "      <td>0.854704</td>\n",
              "      <td>0.978984</td>\n",
              "      <td>0.912632</td>\n",
              "    </tr>\n",
              "    <tr>\n",
              "      <th>6</th>\n",
              "      <td>3.0</td>\n",
              "      <td>14651</td>\n",
              "      <td>1746</td>\n",
              "      <td>1790</td>\n",
              "      <td>1813</td>\n",
              "      <td>0.893517</td>\n",
              "      <td>0.889881</td>\n",
              "      <td>0.891695</td>\n",
              "    </tr>\n",
              "    <tr>\n",
              "      <th>7</th>\n",
              "      <td>3.5</td>\n",
              "      <td>8377</td>\n",
              "      <td>2831</td>\n",
              "      <td>6015</td>\n",
              "      <td>2777</td>\n",
              "      <td>0.747413</td>\n",
              "      <td>0.751031</td>\n",
              "      <td>0.749217</td>\n",
              "    </tr>\n",
              "    <tr>\n",
              "      <th>8</th>\n",
              "      <td>4.0</td>\n",
              "      <td>3959</td>\n",
              "      <td>634</td>\n",
              "      <td>8212</td>\n",
              "      <td>7195</td>\n",
              "      <td>0.861964</td>\n",
              "      <td>0.354940</td>\n",
              "      <td>0.502826</td>\n",
              "    </tr>\n",
              "    <tr>\n",
              "      <th>9</th>\n",
              "      <td>4.5</td>\n",
              "      <td>511</td>\n",
              "      <td>199</td>\n",
              "      <td>15448</td>\n",
              "      <td>3842</td>\n",
              "      <td>0.719718</td>\n",
              "      <td>0.117390</td>\n",
              "      <td>0.201857</td>\n",
              "    </tr>\n",
              "    <tr>\n",
              "      <th>10</th>\n",
              "      <td>5.0</td>\n",
              "      <td>21</td>\n",
              "      <td>6</td>\n",
              "      <td>15641</td>\n",
              "      <td>4332</td>\n",
              "      <td>0.777778</td>\n",
              "      <td>0.004824</td>\n",
              "      <td>0.009589</td>\n",
              "    </tr>\n",
              "  </tbody>\n",
              "</table>\n",
              "</div>"
            ],
            "text/plain": [
              "    threshold     tp    fp     tn    fn  Precision    Recall        F1\n",
              "0         0.0  20000     0      0     0   1.000000  1.000000  1.000000\n",
              "1         0.5  20000     0      0     0   1.000000  1.000000  1.000000\n",
              "2         1.0  20000     0      0     0   1.000000  1.000000  1.000000\n",
              "3         1.5  18782  1149     57    12   0.942351  0.999361  0.970019\n",
              "4         2.0  18664  1004    202   130   0.948953  0.993083  0.970516\n",
              "5         2.5  16118  2740    796   346   0.854704  0.978984  0.912632\n",
              "6         3.0  14651  1746   1790  1813   0.893517  0.889881  0.891695\n",
              "7         3.5   8377  2831   6015  2777   0.747413  0.751031  0.749217\n",
              "8         4.0   3959   634   8212  7195   0.861964  0.354940  0.502826\n",
              "9         4.5    511   199  15448  3842   0.719718  0.117390  0.201857\n",
              "10        5.0     21     6  15641  4332   0.777778  0.004824  0.009589"
            ]
          },
          "metadata": {
            "tags": []
          },
          "execution_count": 41
        }
      ]
    },
    {
      "cell_type": "markdown",
      "metadata": {
        "id": "6aplAMmQ2ifq"
      },
      "source": [
        " Function to compute precision and recall at K."
      ]
    },
    {
      "cell_type": "code",
      "metadata": {
        "id": "lkuJzb1_18Kg",
        "outputId": "d22fb7f4-f2f3-45d9-9c6f-d6bdfe4c63b1",
        "colab": {
          "base_uri": "https://localhost:8080/"
        }
      },
      "source": [
        "def precision_recall_at_k(predictions, k, threshold):\n",
        "    \n",
        "    user_est_true = defaultdict(list)\n",
        "    for uid, _, true_r, est, _ in predictions:\n",
        "        user_est_true[uid].append((est, true_r))\n",
        "\n",
        "    precisions = dict()\n",
        "    recalls = dict()\n",
        "    for uid, user_ratings in user_est_true.items():\n",
        "\n",
        "        # Sort user rating by estimation\n",
        "        user_ratings.sort(key=lambda x: x[0], reverse=True)\n",
        "\n",
        "        # No of relevant items\n",
        "        n_rel = sum((true_r >= threshold) for (_, true_r) in user_ratings)\n",
        "\n",
        "        # Nof of recommended items in top k\n",
        "        n_rec_k = sum((est >= threshold) for (est, _) in user_ratings[:k])\n",
        "\n",
        "        # No of relevant and recommended items in top k\n",
        "        n_rel_and_rec_k = sum(((true_r >= threshold) and (est >= threshold))\n",
        "                              for (est, true_r) in user_ratings[:k])\n",
        "\n",
        "        # Precision@K: Proportion of recommended items that are relevant\n",
        "        precisions[uid] = n_rel_and_rec_k / n_rec_k if n_rec_k != 0 else 1\n",
        "\n",
        "        # Recall@K: Proportion of relevant items that are recommended\n",
        "        recalls[uid] = n_rel_and_rec_k / n_rel if n_rel != 0 else 1\n",
        "\n",
        "    #tp = n_rel_and_rec_k\n",
        "    #fn =  n_rel - tp\n",
        "    #fp = n_rec_k - tp\n",
        "    return precisions, recalls\n",
        "\n",
        "\n",
        "\n",
        "result=[]\n",
        "for i in range(2, 11):\n",
        "    precisions, recalls = precision_recall_at_k(predictions, k=i, threshold=2.5)\n",
        "\n",
        "    # Precision and recall can then be averaged over all users\n",
        "    prec = sum(prec for prec in precisions.values()) / len(precisions)\n",
        "    rec = sum(rec for rec in recalls.values()) / len(recalls)\n",
        "    result.append({'K': i, 'Precision': prec, 'Recall': rec})\n",
        "\n",
        "result"
      ],
      "execution_count": 44,
      "outputs": [
        {
          "output_type": "execute_result",
          "data": {
            "text/plain": [
              "[{'K': 2, 'Precision': 0.9394904458598726, 'Recall': 0.24166740939348877},\n",
              " {'K': 3, 'Precision': 0.9281670205237068, 'Recall': 0.3369827224891961},\n",
              " {'K': 4, 'Precision': 0.9189667374380748, 'Recall': 0.4190579581665681},\n",
              " {'K': 5, 'Precision': 0.9099433828733172, 'Recall': 0.4853154142042423},\n",
              " {'K': 6, 'Precision': 0.9045293701344664, 'Recall': 0.5387651805431556},\n",
              " {'K': 7, 'Precision': 0.901091901728844, 'Recall': 0.5851861750874832},\n",
              " {'K': 8, 'Precision': 0.8985327570518653, 'Recall': 0.6228096073595438},\n",
              " {'K': 9, 'Precision': 0.8936672227277348, 'Recall': 0.6537199183476033},\n",
              " {'K': 10, 'Precision': 0.8910840663229185, 'Recall': 0.6823701555198372}]"
            ]
          },
          "metadata": {
            "tags": []
          },
          "execution_count": 44
        }
      ]
    },
    {
      "cell_type": "code",
      "metadata": {
        "id": "inbsfoJR3jq5",
        "outputId": "96faf8a0-86f2-414e-fc73-04cc4d9c81fb",
        "colab": {
          "base_uri": "https://localhost:8080/"
        }
      },
      "source": [
        "result=[]\n",
        "for i in range(2, 11):\n",
        "    precisions, recalls = precision_recall_at_k(predictions, k=i, threshold=2.5)\n",
        "\n",
        "    # Precision and recall can then be averaged over all users\n",
        "    prec = sum(prec for prec in precisions.values()) / len(precisions)\n",
        "    rec = sum(rec for rec in recalls.values()) / len(recalls)\n",
        "    result.append({'K': i, 'Precision': prec, 'Recall': rec})\n",
        "    \n",
        "result"
      ],
      "execution_count": 45,
      "outputs": [
        {
          "output_type": "execute_result",
          "data": {
            "text/plain": [
              "[{'K': 2, 'Precision': 0.9394904458598726, 'Recall': 0.24166740939348877},\n",
              " {'K': 3, 'Precision': 0.9281670205237068, 'Recall': 0.3369827224891961},\n",
              " {'K': 4, 'Precision': 0.9189667374380748, 'Recall': 0.4190579581665681},\n",
              " {'K': 5, 'Precision': 0.9099433828733172, 'Recall': 0.4853154142042423},\n",
              " {'K': 6, 'Precision': 0.9045293701344664, 'Recall': 0.5387651805431556},\n",
              " {'K': 7, 'Precision': 0.901091901728844, 'Recall': 0.5851861750874832},\n",
              " {'K': 8, 'Precision': 0.8985327570518653, 'Recall': 0.6228096073595438},\n",
              " {'K': 9, 'Precision': 0.8936672227277348, 'Recall': 0.6537199183476033},\n",
              " {'K': 10, 'Precision': 0.8910840663229185, 'Recall': 0.6823701555198372}]"
            ]
          },
          "metadata": {
            "tags": []
          },
          "execution_count": 45
        }
      ]
    },
    {
      "cell_type": "markdown",
      "metadata": {
        "id": "tfKbjpcx3uf9"
      },
      "source": [
        "Plot the movement of precision in K recommendations"
      ]
    },
    {
      "cell_type": "code",
      "metadata": {
        "id": "1-ihlUQO3020",
        "outputId": "d572862d-936c-4f35-bbfa-be4213e13489",
        "colab": {
          "base_uri": "https://localhost:8080/",
          "height": 281
        }
      },
      "source": [
        "Recc=[]\n",
        "Precision=[]\n",
        "Recall=[]\n",
        "for i in range(0,9):\n",
        "    Recc.append(result[i]['K'])\n",
        "    Precision.append(result[i]['Precision'])\n",
        "    Recall.append(result[i]['Recall'])\n",
        "\n",
        "from matplotlib import pyplot as plt\n",
        "plt.plot(Recc, Precision)\n",
        "plt.xlabel('## of Recommendations')\n",
        "plt.ylabel('Precision')\n",
        "plt2 = plt.twinx()\n",
        "plt2.plot(Recc, Recall, 'r')\n",
        "plt.ylabel('Recall')\n",
        "for tl in plt2.get_yticklabels():\n",
        "    tl.set_color('r')\n",
        "  "
      ],
      "execution_count": 46,
      "outputs": [
        {
          "output_type": "display_data",
          "data": {
            "image/png": "[encoded data removed]",
            "text/plain": [
              "<Figure size 432x288 with 2 Axes>"
            ]
          },
          "metadata": {
            "tags": [],
            "needs_background": "light"
          }
        }
      ]
    }
  ]
}